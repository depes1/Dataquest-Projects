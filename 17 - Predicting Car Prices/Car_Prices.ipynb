{
 "cells": [
  {
   "cell_type": "markdown",
   "metadata": {
    "collapsed": true
   },
   "source": [
    "# Predicting Car Prices\n",
    "\n",
    "The data set we will be working with contains information on various cars. For each car we have information about the technical aspects of the vehicle such as the motor's displacement, the weight of the car, the miles per gallon, how fast the car accelerates, and more. You can read more about the data set and download it [here](https://archive.ics.uci.edu/ml/datasets/automobile)"
   ]
  },
  {
   "cell_type": "code",
   "execution_count": 1,
   "metadata": {
    "collapsed": true
   },
   "outputs": [],
   "source": [
    "import pandas as pd\n",
    "import numpy as np\n",
    "\n",
    "pd.options.display.max_columns = 99"
   ]
  },
  {
   "cell_type": "code",
   "execution_count": 2,
   "metadata": {
    "collapsed": false
   },
   "outputs": [
    {
     "data": {
      "text/html": [
       "<div>\n",
       "<style scoped>\n",
       "    .dataframe tbody tr th:only-of-type {\n",
       "        vertical-align: middle;\n",
       "    }\n",
       "\n",
       "    .dataframe tbody tr th {\n",
       "        vertical-align: top;\n",
       "    }\n",
       "\n",
       "    .dataframe thead th {\n",
       "        text-align: right;\n",
       "    }\n",
       "</style>\n",
       "<table border=\"1\" class=\"dataframe\">\n",
       "  <thead>\n",
       "    <tr style=\"text-align: right;\">\n",
       "      <th></th>\n",
       "      <th>symboling</th>\n",
       "      <th>normalized-losses</th>\n",
       "      <th>make</th>\n",
       "      <th>fuel-type</th>\n",
       "      <th>aspiration</th>\n",
       "      <th>num-of-doors</th>\n",
       "      <th>body-style</th>\n",
       "      <th>drive-wheels</th>\n",
       "      <th>engine-location</th>\n",
       "      <th>wheel-base</th>\n",
       "      <th>length</th>\n",
       "      <th>width</th>\n",
       "      <th>height</th>\n",
       "      <th>curb-weight</th>\n",
       "      <th>engine-type</th>\n",
       "      <th>num-of-cylinders</th>\n",
       "      <th>engine-size</th>\n",
       "      <th>fuel-system</th>\n",
       "      <th>bore</th>\n",
       "      <th>stroke</th>\n",
       "      <th>compression-ratio</th>\n",
       "      <th>horsepower</th>\n",
       "      <th>peak-rpm</th>\n",
       "      <th>city-mpg</th>\n",
       "      <th>highway-mpg</th>\n",
       "      <th>price</th>\n",
       "    </tr>\n",
       "  </thead>\n",
       "  <tbody>\n",
       "    <tr>\n",
       "      <th>0</th>\n",
       "      <td>3</td>\n",
       "      <td>?</td>\n",
       "      <td>alfa-romero</td>\n",
       "      <td>gas</td>\n",
       "      <td>std</td>\n",
       "      <td>two</td>\n",
       "      <td>convertible</td>\n",
       "      <td>rwd</td>\n",
       "      <td>front</td>\n",
       "      <td>88.6</td>\n",
       "      <td>168.8</td>\n",
       "      <td>64.1</td>\n",
       "      <td>48.8</td>\n",
       "      <td>2548</td>\n",
       "      <td>dohc</td>\n",
       "      <td>four</td>\n",
       "      <td>130</td>\n",
       "      <td>mpfi</td>\n",
       "      <td>3.47</td>\n",
       "      <td>2.68</td>\n",
       "      <td>9.0</td>\n",
       "      <td>111</td>\n",
       "      <td>5000</td>\n",
       "      <td>21</td>\n",
       "      <td>27</td>\n",
       "      <td>13495</td>\n",
       "    </tr>\n",
       "    <tr>\n",
       "      <th>1</th>\n",
       "      <td>3</td>\n",
       "      <td>?</td>\n",
       "      <td>alfa-romero</td>\n",
       "      <td>gas</td>\n",
       "      <td>std</td>\n",
       "      <td>two</td>\n",
       "      <td>convertible</td>\n",
       "      <td>rwd</td>\n",
       "      <td>front</td>\n",
       "      <td>88.6</td>\n",
       "      <td>168.8</td>\n",
       "      <td>64.1</td>\n",
       "      <td>48.8</td>\n",
       "      <td>2548</td>\n",
       "      <td>dohc</td>\n",
       "      <td>four</td>\n",
       "      <td>130</td>\n",
       "      <td>mpfi</td>\n",
       "      <td>3.47</td>\n",
       "      <td>2.68</td>\n",
       "      <td>9.0</td>\n",
       "      <td>111</td>\n",
       "      <td>5000</td>\n",
       "      <td>21</td>\n",
       "      <td>27</td>\n",
       "      <td>16500</td>\n",
       "    </tr>\n",
       "    <tr>\n",
       "      <th>2</th>\n",
       "      <td>1</td>\n",
       "      <td>?</td>\n",
       "      <td>alfa-romero</td>\n",
       "      <td>gas</td>\n",
       "      <td>std</td>\n",
       "      <td>two</td>\n",
       "      <td>hatchback</td>\n",
       "      <td>rwd</td>\n",
       "      <td>front</td>\n",
       "      <td>94.5</td>\n",
       "      <td>171.2</td>\n",
       "      <td>65.5</td>\n",
       "      <td>52.4</td>\n",
       "      <td>2823</td>\n",
       "      <td>ohcv</td>\n",
       "      <td>six</td>\n",
       "      <td>152</td>\n",
       "      <td>mpfi</td>\n",
       "      <td>2.68</td>\n",
       "      <td>3.47</td>\n",
       "      <td>9.0</td>\n",
       "      <td>154</td>\n",
       "      <td>5000</td>\n",
       "      <td>19</td>\n",
       "      <td>26</td>\n",
       "      <td>16500</td>\n",
       "    </tr>\n",
       "    <tr>\n",
       "      <th>3</th>\n",
       "      <td>2</td>\n",
       "      <td>164</td>\n",
       "      <td>audi</td>\n",
       "      <td>gas</td>\n",
       "      <td>std</td>\n",
       "      <td>four</td>\n",
       "      <td>sedan</td>\n",
       "      <td>fwd</td>\n",
       "      <td>front</td>\n",
       "      <td>99.8</td>\n",
       "      <td>176.6</td>\n",
       "      <td>66.2</td>\n",
       "      <td>54.3</td>\n",
       "      <td>2337</td>\n",
       "      <td>ohc</td>\n",
       "      <td>four</td>\n",
       "      <td>109</td>\n",
       "      <td>mpfi</td>\n",
       "      <td>3.19</td>\n",
       "      <td>3.40</td>\n",
       "      <td>10.0</td>\n",
       "      <td>102</td>\n",
       "      <td>5500</td>\n",
       "      <td>24</td>\n",
       "      <td>30</td>\n",
       "      <td>13950</td>\n",
       "    </tr>\n",
       "    <tr>\n",
       "      <th>4</th>\n",
       "      <td>2</td>\n",
       "      <td>164</td>\n",
       "      <td>audi</td>\n",
       "      <td>gas</td>\n",
       "      <td>std</td>\n",
       "      <td>four</td>\n",
       "      <td>sedan</td>\n",
       "      <td>4wd</td>\n",
       "      <td>front</td>\n",
       "      <td>99.4</td>\n",
       "      <td>176.6</td>\n",
       "      <td>66.4</td>\n",
       "      <td>54.3</td>\n",
       "      <td>2824</td>\n",
       "      <td>ohc</td>\n",
       "      <td>five</td>\n",
       "      <td>136</td>\n",
       "      <td>mpfi</td>\n",
       "      <td>3.19</td>\n",
       "      <td>3.40</td>\n",
       "      <td>8.0</td>\n",
       "      <td>115</td>\n",
       "      <td>5500</td>\n",
       "      <td>18</td>\n",
       "      <td>22</td>\n",
       "      <td>17450</td>\n",
       "    </tr>\n",
       "  </tbody>\n",
       "</table>\n",
       "</div>"
      ],
      "text/plain": [
       "   symboling normalized-losses         make fuel-type aspiration num-of-doors  \\\n",
       "0          3                 ?  alfa-romero       gas        std          two   \n",
       "1          3                 ?  alfa-romero       gas        std          two   \n",
       "2          1                 ?  alfa-romero       gas        std          two   \n",
       "3          2               164         audi       gas        std         four   \n",
       "4          2               164         audi       gas        std         four   \n",
       "\n",
       "    body-style drive-wheels engine-location  wheel-base  length  width  \\\n",
       "0  convertible          rwd           front        88.6   168.8   64.1   \n",
       "1  convertible          rwd           front        88.6   168.8   64.1   \n",
       "2    hatchback          rwd           front        94.5   171.2   65.5   \n",
       "3        sedan          fwd           front        99.8   176.6   66.2   \n",
       "4        sedan          4wd           front        99.4   176.6   66.4   \n",
       "\n",
       "   height  curb-weight engine-type num-of-cylinders  engine-size fuel-system  \\\n",
       "0    48.8         2548        dohc             four          130        mpfi   \n",
       "1    48.8         2548        dohc             four          130        mpfi   \n",
       "2    52.4         2823        ohcv              six          152        mpfi   \n",
       "3    54.3         2337         ohc             four          109        mpfi   \n",
       "4    54.3         2824         ohc             five          136        mpfi   \n",
       "\n",
       "   bore stroke  compression-ratio horsepower peak-rpm  city-mpg  highway-mpg  \\\n",
       "0  3.47   2.68                9.0        111     5000        21           27   \n",
       "1  3.47   2.68                9.0        111     5000        21           27   \n",
       "2  2.68   3.47                9.0        154     5000        19           26   \n",
       "3  3.19   3.40               10.0        102     5500        24           30   \n",
       "4  3.19   3.40                8.0        115     5500        18           22   \n",
       "\n",
       "   price  \n",
       "0  13495  \n",
       "1  16500  \n",
       "2  16500  \n",
       "3  13950  \n",
       "4  17450  "
      ]
     },
     "execution_count": 2,
     "metadata": {},
     "output_type": "execute_result"
    }
   ],
   "source": [
    "col_names = ['symboling', 'normalized-losses', 'make', 'fuel-type', \n",
    "             'aspiration', 'num-of-doors', 'body-style', 'drive-wheels',\n",
    "             'engine-location', 'wheel-base', 'length', 'width', 'height',\n",
    "             'curb-weight', 'engine-type', 'num-of-cylinders', 'engine-size',\n",
    "             'fuel-system', 'bore', 'stroke', 'compression-ratio',\n",
    "             'horsepower', 'peak-rpm', 'city-mpg', 'highway-mpg', 'price']\n",
    "cars = pd.read_csv('imports-85.data', names=col_names)\n",
    "cars.head()"
   ]
  },
  {
   "cell_type": "markdown",
   "metadata": {},
   "source": [
    "We'll use the k-Nearest Neighbors machine learning model to predict the car prices. In order to do so, we need to determine which columns are continuous and can be used as features and which column is the target column. Below, there are the columns we'll be using:\n",
    "\n",
    "**Features:** `normalized-losses`, `wheel-base`, `length`, `width`, `height`, `curb-weight`, `engine-size`, `bore`, `stroke`, `compression-ratio`, `horsepower`, `peak-rpm`, `city-mpg`, `highway-mpg`.\n",
    "\n",
    "**Target:** `price`"
   ]
  },
  {
   "cell_type": "code",
   "execution_count": 3,
   "metadata": {
    "collapsed": false
   },
   "outputs": [],
   "source": [
    "continuous_values_cols = ['normalized-losses', 'wheel-base', 'length', \n",
    "                          'width', 'height', 'curb-weight', 'engine-size', \n",
    "                          'bore', 'stroke', 'compression-ratio', \n",
    "                          'horsepower', 'peak-rpm', 'city-mpg', \n",
    "                          'highway-mpg', 'price']\n",
    "# Selecting only numeric continuous values columns\n",
    "cont_cars = cars[continuous_values_cols]"
   ]
  },
  {
   "cell_type": "markdown",
   "metadata": {},
   "source": [
    "## Handling Missing Values"
   ]
  },
  {
   "cell_type": "code",
   "execution_count": 4,
   "metadata": {
    "collapsed": false
   },
   "outputs": [
    {
     "name": "stdout",
     "output_type": "stream",
     "text": [
      "<class 'pandas.core.frame.DataFrame'>\n",
      "RangeIndex: 205 entries, 0 to 204\n",
      "Data columns (total 15 columns):\n",
      "normalized-losses    205 non-null object\n",
      "wheel-base           205 non-null float64\n",
      "length               205 non-null float64\n",
      "width                205 non-null float64\n",
      "height               205 non-null float64\n",
      "curb-weight          205 non-null int64\n",
      "engine-size          205 non-null int64\n",
      "bore                 205 non-null object\n",
      "stroke               205 non-null object\n",
      "compression-ratio    205 non-null float64\n",
      "horsepower           205 non-null object\n",
      "peak-rpm             205 non-null object\n",
      "city-mpg             205 non-null int64\n",
      "highway-mpg          205 non-null int64\n",
      "price                205 non-null object\n",
      "dtypes: float64(5), int64(4), object(6)\n",
      "memory usage: 24.1+ KB\n"
     ]
    }
   ],
   "source": [
    "cont_cars.info()"
   ]
  },
  {
   "cell_type": "markdown",
   "metadata": {},
   "source": [
    "Apparently, all columns haven't non-null values. However, as we see on the data set preview, the column `normalized-losses` contains missing values represented as \"?\".\n",
    "Let's replace these values and look for the presence of missing values in other numeric columns."
   ]
  },
  {
   "cell_type": "code",
   "execution_count": 5,
   "metadata": {
    "collapsed": false
   },
   "outputs": [],
   "source": [
    "# Replacing all \"?\" to NaN values\n",
    "cont_cars = cont_cars.replace('?', np.nan)"
   ]
  },
  {
   "cell_type": "code",
   "execution_count": 6,
   "metadata": {
    "collapsed": false
   },
   "outputs": [
    {
     "data": {
      "text/plain": [
       "normalized-losses    41\n",
       "wheel-base            0\n",
       "length                0\n",
       "width                 0\n",
       "height                0\n",
       "curb-weight           0\n",
       "engine-size           0\n",
       "bore                  4\n",
       "stroke                4\n",
       "compression-ratio     0\n",
       "horsepower            2\n",
       "peak-rpm              2\n",
       "city-mpg              0\n",
       "highway-mpg           0\n",
       "price                 4\n",
       "dtype: int64"
      ]
     },
     "execution_count": 6,
     "metadata": {},
     "output_type": "execute_result"
    }
   ],
   "source": [
    "# Converting all column values to float type\n",
    "cont_cars = cont_cars.astype('float')\n",
    "# Counting the number of missing values in each column\n",
    "cont_cars.isnull().sum()"
   ]
  },
  {
   "cell_type": "markdown",
   "metadata": {},
   "source": [
    "As our target is the `price` column, we'll drop all the 4 rows with missing values in this column:"
   ]
  },
  {
   "cell_type": "code",
   "execution_count": 7,
   "metadata": {
    "collapsed": false
   },
   "outputs": [
    {
     "data": {
      "text/plain": [
       "normalized-losses    37\n",
       "wheel-base            0\n",
       "length                0\n",
       "width                 0\n",
       "height                0\n",
       "curb-weight           0\n",
       "engine-size           0\n",
       "bore                  4\n",
       "stroke                4\n",
       "compression-ratio     0\n",
       "horsepower            2\n",
       "peak-rpm              2\n",
       "city-mpg              0\n",
       "highway-mpg           0\n",
       "price                 0\n",
       "dtype: int64"
      ]
     },
     "execution_count": 7,
     "metadata": {},
     "output_type": "execute_result"
    }
   ],
   "source": [
    "# Droping all rows containing missing values in the price column\n",
    "cont_cars = cont_cars.dropna(subset=['price'])\n",
    "cont_cars.isnull().sum()"
   ]
  },
  {
   "cell_type": "markdown",
   "metadata": {},
   "source": [
    "Since the `normalized-losses` column has 37 missing values, if we drop the rows entirely, we would lost almost 20% of our data. Let's check the values in this column to make a decision whether we drop the column entirely or replace the missing values using the average values from this column."
   ]
  },
  {
   "cell_type": "code",
   "execution_count": 8,
   "metadata": {
    "collapsed": false
   },
   "outputs": [
    {
     "name": "stdout",
     "output_type": "stream",
     "text": [
      "35.442167530553256\n"
     ]
    },
    {
     "data": {
      "text/plain": [
       "161.0    11\n",
       "91.0      8\n",
       "150.0     7\n",
       "104.0     6\n",
       "128.0     6\n",
       "134.0     6\n",
       "102.0     5\n",
       "85.0      5\n",
       "103.0     5\n",
       "168.0     5\n",
       "74.0      5\n",
       "95.0      5\n",
       "94.0      5\n",
       "65.0      5\n",
       "122.0     4\n",
       "148.0     4\n",
       "118.0     4\n",
       "93.0      4\n",
       "106.0     4\n",
       "115.0     3\n",
       "125.0     3\n",
       "83.0      3\n",
       "101.0     3\n",
       "137.0     3\n",
       "154.0     3\n",
       "188.0     2\n",
       "81.0      2\n",
       "192.0     2\n",
       "158.0     2\n",
       "145.0     2\n",
       "113.0     2\n",
       "110.0     2\n",
       "153.0     2\n",
       "129.0     2\n",
       "194.0     2\n",
       "197.0     2\n",
       "87.0      2\n",
       "89.0      2\n",
       "119.0     2\n",
       "164.0     2\n",
       "108.0     2\n",
       "231.0     1\n",
       "107.0     1\n",
       "78.0      1\n",
       "256.0     1\n",
       "98.0      1\n",
       "121.0     1\n",
       "77.0      1\n",
       "142.0     1\n",
       "90.0      1\n",
       "186.0     1\n",
       "Name: normalized-losses, dtype: int64"
      ]
     },
     "execution_count": 8,
     "metadata": {},
     "output_type": "execute_result"
    }
   ],
   "source": [
    "print(cont_cars['normalized-losses'].std())\n",
    "cont_cars['normalized-losses'].value_counts()"
   ]
  },
  {
   "cell_type": "markdown",
   "metadata": {},
   "source": [
    "As the variance of these values is not too high, we decided to keep it and replace the missing values with the mean. We'll also substitute the missing values in the other four columns with the mean of each respective column."
   ]
  },
  {
   "cell_type": "code",
   "execution_count": 9,
   "metadata": {
    "collapsed": false
   },
   "outputs": [
    {
     "data": {
      "text/plain": [
       "normalized-losses    0\n",
       "wheel-base           0\n",
       "length               0\n",
       "width                0\n",
       "height               0\n",
       "curb-weight          0\n",
       "engine-size          0\n",
       "bore                 0\n",
       "stroke               0\n",
       "compression-ratio    0\n",
       "horsepower           0\n",
       "peak-rpm             0\n",
       "city-mpg             0\n",
       "highway-mpg          0\n",
       "price                0\n",
       "dtype: int64"
      ]
     },
     "execution_count": 9,
     "metadata": {},
     "output_type": "execute_result"
    }
   ],
   "source": [
    "# Replacing all missing values with the mean of their respective column\n",
    "cont_cars = cont_cars.fillna(cont_cars.mean())\n",
    "cont_cars.isnull().sum()"
   ]
  },
  {
   "cell_type": "markdown",
   "metadata": {},
   "source": [
    "## Normalizing Columns"
   ]
  },
  {
   "cell_type": "markdown",
   "metadata": {},
   "source": [
    "In order to make each feature contributes approximately proportionately in the model and do not get bias due to the broad range of values between columns, we'll normalize the column values to range between 0 and 1."
   ]
  },
  {
   "cell_type": "code",
   "execution_count": 10,
   "metadata": {
    "collapsed": false
   },
   "outputs": [
    {
     "data": {
      "text/html": [
       "<div>\n",
       "<style scoped>\n",
       "    .dataframe tbody tr th:only-of-type {\n",
       "        vertical-align: middle;\n",
       "    }\n",
       "\n",
       "    .dataframe tbody tr th {\n",
       "        vertical-align: top;\n",
       "    }\n",
       "\n",
       "    .dataframe thead th {\n",
       "        text-align: right;\n",
       "    }\n",
       "</style>\n",
       "<table border=\"1\" class=\"dataframe\">\n",
       "  <thead>\n",
       "    <tr style=\"text-align: right;\">\n",
       "      <th></th>\n",
       "      <th>normalized-losses</th>\n",
       "      <th>wheel-base</th>\n",
       "      <th>length</th>\n",
       "      <th>width</th>\n",
       "      <th>height</th>\n",
       "      <th>curb-weight</th>\n",
       "      <th>engine-size</th>\n",
       "      <th>bore</th>\n",
       "      <th>stroke</th>\n",
       "      <th>compression-ratio</th>\n",
       "      <th>horsepower</th>\n",
       "      <th>peak-rpm</th>\n",
       "      <th>city-mpg</th>\n",
       "      <th>highway-mpg</th>\n",
       "      <th>price</th>\n",
       "    </tr>\n",
       "  </thead>\n",
       "  <tbody>\n",
       "    <tr>\n",
       "      <th>0</th>\n",
       "      <td>0.298429</td>\n",
       "      <td>0.058309</td>\n",
       "      <td>0.413433</td>\n",
       "      <td>0.324786</td>\n",
       "      <td>0.083333</td>\n",
       "      <td>0.411171</td>\n",
       "      <td>0.260377</td>\n",
       "      <td>0.664286</td>\n",
       "      <td>0.290476</td>\n",
       "      <td>0.1250</td>\n",
       "      <td>0.294393</td>\n",
       "      <td>0.346939</td>\n",
       "      <td>0.222222</td>\n",
       "      <td>0.289474</td>\n",
       "      <td>13495.0</td>\n",
       "    </tr>\n",
       "    <tr>\n",
       "      <th>1</th>\n",
       "      <td>0.298429</td>\n",
       "      <td>0.058309</td>\n",
       "      <td>0.413433</td>\n",
       "      <td>0.324786</td>\n",
       "      <td>0.083333</td>\n",
       "      <td>0.411171</td>\n",
       "      <td>0.260377</td>\n",
       "      <td>0.664286</td>\n",
       "      <td>0.290476</td>\n",
       "      <td>0.1250</td>\n",
       "      <td>0.294393</td>\n",
       "      <td>0.346939</td>\n",
       "      <td>0.222222</td>\n",
       "      <td>0.289474</td>\n",
       "      <td>16500.0</td>\n",
       "    </tr>\n",
       "    <tr>\n",
       "      <th>2</th>\n",
       "      <td>0.298429</td>\n",
       "      <td>0.230321</td>\n",
       "      <td>0.449254</td>\n",
       "      <td>0.444444</td>\n",
       "      <td>0.383333</td>\n",
       "      <td>0.517843</td>\n",
       "      <td>0.343396</td>\n",
       "      <td>0.100000</td>\n",
       "      <td>0.666667</td>\n",
       "      <td>0.1250</td>\n",
       "      <td>0.495327</td>\n",
       "      <td>0.346939</td>\n",
       "      <td>0.166667</td>\n",
       "      <td>0.263158</td>\n",
       "      <td>16500.0</td>\n",
       "    </tr>\n",
       "    <tr>\n",
       "      <th>3</th>\n",
       "      <td>0.518325</td>\n",
       "      <td>0.384840</td>\n",
       "      <td>0.529851</td>\n",
       "      <td>0.504274</td>\n",
       "      <td>0.541667</td>\n",
       "      <td>0.329325</td>\n",
       "      <td>0.181132</td>\n",
       "      <td>0.464286</td>\n",
       "      <td>0.633333</td>\n",
       "      <td>0.1875</td>\n",
       "      <td>0.252336</td>\n",
       "      <td>0.551020</td>\n",
       "      <td>0.305556</td>\n",
       "      <td>0.368421</td>\n",
       "      <td>13950.0</td>\n",
       "    </tr>\n",
       "    <tr>\n",
       "      <th>4</th>\n",
       "      <td>0.518325</td>\n",
       "      <td>0.373178</td>\n",
       "      <td>0.529851</td>\n",
       "      <td>0.521368</td>\n",
       "      <td>0.541667</td>\n",
       "      <td>0.518231</td>\n",
       "      <td>0.283019</td>\n",
       "      <td>0.464286</td>\n",
       "      <td>0.633333</td>\n",
       "      <td>0.0625</td>\n",
       "      <td>0.313084</td>\n",
       "      <td>0.551020</td>\n",
       "      <td>0.138889</td>\n",
       "      <td>0.157895</td>\n",
       "      <td>17450.0</td>\n",
       "    </tr>\n",
       "  </tbody>\n",
       "</table>\n",
       "</div>"
      ],
      "text/plain": [
       "   normalized-losses  wheel-base    length     width    height  curb-weight  \\\n",
       "0           0.298429    0.058309  0.413433  0.324786  0.083333     0.411171   \n",
       "1           0.298429    0.058309  0.413433  0.324786  0.083333     0.411171   \n",
       "2           0.298429    0.230321  0.449254  0.444444  0.383333     0.517843   \n",
       "3           0.518325    0.384840  0.529851  0.504274  0.541667     0.329325   \n",
       "4           0.518325    0.373178  0.529851  0.521368  0.541667     0.518231   \n",
       "\n",
       "   engine-size      bore    stroke  compression-ratio  horsepower  peak-rpm  \\\n",
       "0     0.260377  0.664286  0.290476             0.1250    0.294393  0.346939   \n",
       "1     0.260377  0.664286  0.290476             0.1250    0.294393  0.346939   \n",
       "2     0.343396  0.100000  0.666667             0.1250    0.495327  0.346939   \n",
       "3     0.181132  0.464286  0.633333             0.1875    0.252336  0.551020   \n",
       "4     0.283019  0.464286  0.633333             0.0625    0.313084  0.551020   \n",
       "\n",
       "   city-mpg  highway-mpg    price  \n",
       "0  0.222222     0.289474  13495.0  \n",
       "1  0.222222     0.289474  16500.0  \n",
       "2  0.166667     0.263158  16500.0  \n",
       "3  0.305556     0.368421  13950.0  \n",
       "4  0.138889     0.157895  17450.0  "
      ]
     },
     "execution_count": 10,
     "metadata": {},
     "output_type": "execute_result"
    }
   ],
   "source": [
    "price_col = cont_cars['price']\n",
    "normalized_cars=(cont_cars-cont_cars.min())/(cont_cars.max()-cont_cars.min())\n",
    "normalized_cars['price'] = price_col\n",
    "normalized_cars.head()"
   ]
  },
  {
   "cell_type": "markdown",
   "metadata": {},
   "source": [
    "## Univariate k-Nearest Neighbors\n",
    "\n",
    "### Using the default k value"
   ]
  },
  {
   "cell_type": "code",
   "execution_count": 11,
   "metadata": {
    "collapsed": true
   },
   "outputs": [],
   "source": [
    "from sklearn.neighbors import KNeighborsRegressor\n",
    "from sklearn.metrics import mean_squared_error\n",
    "from sklearn.model_selection import KFold, cross_val_score\n",
    "\n",
    "def knn_train_test(col, target, df):\n",
    "    kf = KFold(n_splits=2, shuffle=True, random_state=1)\n",
    "    model = KNeighborsRegressor()\n",
    "    mses = cross_val_score(model, df[[col]], df[target], \n",
    "                    scoring='neg_mean_squared_error', cv=kf)\n",
    "    rmses = (abs(mses))**0.5\n",
    "    avg_rmse = np.mean(rmses)\n",
    "    return avg_rmse"
   ]
  },
  {
   "cell_type": "code",
   "execution_count": 12,
   "metadata": {
    "collapsed": false
   },
   "outputs": [
    {
     "data": {
      "text/plain": [
       "{'bore': 6561.16,\n",
       " 'city-mpg': 4788.02,\n",
       " 'compression-ratio': 6875.61,\n",
       " 'curb-weight': 4130.92,\n",
       " 'engine-size': 3364.29,\n",
       " 'height': 7735.81,\n",
       " 'highway-mpg': 4336.43,\n",
       " 'horsepower': 3983.29,\n",
       " 'length': 5645.8,\n",
       " 'normalized-losses': 7482.63,\n",
       " 'peak-rpm': 7721.99,\n",
       " 'stroke': 7768.26,\n",
       " 'wheel-base': 5709.57,\n",
       " 'width': 4480.76}"
      ]
     },
     "execution_count": 12,
     "metadata": {},
     "output_type": "execute_result"
    }
   ],
   "source": [
    "cols = normalized_cars.columns.drop('price')\n",
    "rmse_dict = {}\n",
    "for col in cols:\n",
    "    rmse_dict[col] = round(knn_train_test(col, 'price', normalized_cars),2)\n",
    "    \n",
    "rmse_dict"
   ]
  },
  {
   "cell_type": "markdown",
   "metadata": {},
   "source": [
    "### Varying the k value"
   ]
  },
  {
   "cell_type": "code",
   "execution_count": 13,
   "metadata": {
    "collapsed": false
   },
   "outputs": [],
   "source": [
    "def knn_train_test_k(col, target, df):\n",
    "    k_vals = [1, 3, 5, 7, 9]\n",
    "    avg_rmse_dict = {}\n",
    "    for k in k_vals:\n",
    "        kf = KFold(n_splits=2, shuffle=True, random_state=1)\n",
    "        model = KNeighborsRegressor(n_neighbors=k)\n",
    "        mses = cross_val_score(model, df[[col]], df[target], \n",
    "                    scoring='neg_mean_squared_error', cv=kf)\n",
    "        rmses = (abs(mses))**0.5\n",
    "        avg_rmse = np.mean(rmses)\n",
    "        avg_rmse_dict[k] = avg_rmse\n",
    "    return avg_rmse_dict"
   ]
  },
  {
   "cell_type": "code",
   "execution_count": 14,
   "metadata": {
    "collapsed": false
   },
   "outputs": [
    {
     "data": {
      "text/plain": [
       "{'bore': {1: 7621.538208760644,\n",
       "  3: 6437.139676823377,\n",
       "  5: 6561.161516346088,\n",
       "  7: 6634.459205363681,\n",
       "  9: 6697.647393148453},\n",
       " 'city-mpg': {1: 5871.920826750951,\n",
       "  3: 4727.348409434364,\n",
       "  5: 4788.02204494846,\n",
       "  7: 4939.508734499681,\n",
       "  9: 4858.913093452284},\n",
       " 'compression-ratio': {1: 8499.42788265848,\n",
       "  3: 7112.2506526982925,\n",
       "  5: 6875.609561238276,\n",
       "  7: 6834.8632068665365,\n",
       "  9: 6837.759359617571},\n",
       " 'curb-weight': {1: 5480.3387464948755,\n",
       "  3: 4564.972121550114,\n",
       "  5: 4130.915690353671,\n",
       "  7: 4048.463958309884,\n",
       "  9: 4265.530904180105},\n",
       " 'engine-size': {1: 4063.687923644082,\n",
       "  3: 3282.6218815594984,\n",
       "  5: 3364.2854728914,\n",
       "  7: 3650.146869821362,\n",
       "  9: 3841.761337660194},\n",
       " 'height': {1: 10146.330793428593,\n",
       "  3: 8275.871971047809,\n",
       "  5: 7735.811797200045,\n",
       "  7: 7819.5009556460045,\n",
       "  9: 7722.600515996639},\n",
       " 'highway-mpg': {1: 6115.698685284922,\n",
       "  3: 4579.039307478401,\n",
       "  5: 4336.427992998121,\n",
       "  7: 4478.246829254598,\n",
       "  9: 4589.306114328255},\n",
       " 'horsepower': {1: 4596.356051035821,\n",
       "  3: 4029.8729687950135,\n",
       "  5: 3983.2898772021913,\n",
       "  7: 4275.14947182207,\n",
       "  9: 4378.258277016718},\n",
       " 'length': {1: 5289.997393810672,\n",
       "  3: 5277.126142678651,\n",
       "  5: 5645.803155395372,\n",
       "  7: 5516.484539613216,\n",
       "  9: 5587.418829344924},\n",
       " 'normalized-losses': {1: 10243.59466515421,\n",
       "  3: 7048.945152628262,\n",
       "  5: 7482.6322894249615,\n",
       "  7: 7497.6199180235435,\n",
       "  9: 7560.0917792446},\n",
       " 'peak-rpm': {1: 10406.868428506665,\n",
       "  3: 7920.188402412387,\n",
       "  5: 7721.9864516221705,\n",
       "  7: 7512.1917545421675,\n",
       "  9: 7505.534260877706},\n",
       " 'stroke': {1: 8902.855824987628,\n",
       "  3: 7274.998021022995,\n",
       "  5: 7768.258095945409,\n",
       "  7: 7497.049004369626,\n",
       "  9: 7640.136281121902},\n",
       " 'wheel-base': {1: 5676.5367547964215,\n",
       "  3: 5637.894934774109,\n",
       "  5: 5709.5676831833825,\n",
       "  7: 5802.448691476746,\n",
       "  9: 5995.139971962297},\n",
       " 'width': {1: 4657.211602458881,\n",
       "  3: 4280.469957552961,\n",
       "  5: 4480.755962120833,\n",
       "  7: 4614.343223473189,\n",
       "  9: 4725.277463710543}}"
      ]
     },
     "execution_count": 14,
     "metadata": {},
     "output_type": "execute_result"
    }
   ],
   "source": [
    "rmse_dict_k = {}\n",
    "for col in cols:\n",
    "    rmse_dict_k[col] = knn_train_test_k(col, 'price', normalized_cars)\n",
    "rmse_dict_k"
   ]
  },
  {
   "cell_type": "code",
   "execution_count": 15,
   "metadata": {
    "collapsed": false
   },
   "outputs": [
    {
     "data": {
      "image/png": "[encoded data removed]",
      "text/plain": [
       "<matplotlib.figure.Figure at 0x7f623dd3dda0>"
      ]
     },
     "metadata": {},
     "output_type": "display_data"
    }
   ],
   "source": [
    "import matplotlib.pyplot as plt\n",
    "%matplotlib inline\n",
    "\n",
    "for k,v in rmse_dict_k.items():\n",
    "    x, y = zip(*sorted(v.items()))\n",
    "    \n",
    "    plt.plot(x,y)\n",
    "    plt.xlabel('k value')\n",
    "    plt.ylabel('RMSE')"
   ]
  },
  {
   "cell_type": "markdown",
   "metadata": {},
   "source": [
    "## Multivariate k-Nearest Neighbors\n",
    "\n",
    "### Using all features"
   ]
  },
  {
   "cell_type": "code",
   "execution_count": 16,
   "metadata": {
    "collapsed": true
   },
   "outputs": [],
   "source": [
    "def knn_train_test_cols(cols, target, df):\n",
    "    kf = KFold(n_splits=2, shuffle=True, random_state=1)\n",
    "    model = KNeighborsRegressor()\n",
    "    mses = cross_val_score(model, df[cols], df[target], \n",
    "                           scoring='neg_mean_squared_error', cv=kf)\n",
    "    rmses = (abs(mses))**0.5\n",
    "    avg_rmse = np.mean(rmses)\n",
    "    return avg_rmse"
   ]
  },
  {
   "cell_type": "code",
   "execution_count": 17,
   "metadata": {
    "collapsed": false
   },
   "outputs": [
    {
     "data": {
      "text/plain": [
       "4009.9014350654124"
      ]
     },
     "execution_count": 17,
     "metadata": {},
     "output_type": "execute_result"
    }
   ],
   "source": [
    "knn_train_test_cols(cols, 'price', normalized_cars)"
   ]
  },
  {
   "cell_type": "markdown",
   "metadata": {},
   "source": [
    "### Using n best features"
   ]
  },
  {
   "cell_type": "code",
   "execution_count": 18,
   "metadata": {
    "collapsed": false
   },
   "outputs": [
    {
     "name": "stdout",
     "output_type": "stream",
     "text": [
      "engine-size          3364.29\n",
      "horsepower           3983.29\n",
      "curb-weight          4130.92\n",
      "highway-mpg          4336.43\n",
      "width                4480.76\n",
      "city-mpg             4788.02\n",
      "length               5645.80\n",
      "wheel-base           5709.57\n",
      "bore                 6561.16\n",
      "compression-ratio    6875.61\n",
      "normalized-losses    7482.63\n",
      "peak-rpm             7721.99\n",
      "height               7735.81\n",
      "stroke               7768.26\n",
      "dtype: float64\n",
      "Index(['engine-size', 'horsepower', 'curb-weight', 'highway-mpg', 'width',\n",
      "       'city-mpg', 'length', 'wheel-base', 'bore', 'compression-ratio',\n",
      "       'normalized-losses', 'peak-rpm', 'height', 'stroke'],\n",
      "      dtype='object')\n"
     ]
    }
   ],
   "source": [
    "rmse_series = pd.Series(rmse_dict)\n",
    "sorted_series = rmse_series.sort_values()\n",
    "print(sorted_series)\n",
    "sorted_series_index = sorted_series.index\n",
    "print(sorted_series_index)"
   ]
  },
  {
   "cell_type": "code",
   "execution_count": 19,
   "metadata": {
    "collapsed": true
   },
   "outputs": [],
   "source": [
    "def knn_train_test_best(cols, target, df):\n",
    "    kf = KFold(n_splits=2, shuffle=True, random_state=1)\n",
    "    model = KNeighborsRegressor()\n",
    "    mses = cross_val_score(model, df[cols], df[target], \n",
    "                           scoring='neg_mean_squared_error', cv=kf)\n",
    "    rmses = (abs(mses))**0.5\n",
    "    avg_rmse = np.mean(rmses)\n",
    "    return avg_rmse"
   ]
  },
  {
   "cell_type": "code",
   "execution_count": 20,
   "metadata": {
    "collapsed": false
   },
   "outputs": [
    {
     "name": "stdout",
     "output_type": "stream",
     "text": [
      "best 2 features: \n",
      "3280.346853325223\n",
      "best 3 features: \n",
      "3422.0286056245513\n",
      "best 4 features: \n",
      "3299.907917055727\n",
      "best 5 features: \n",
      "3383.9617472246973\n",
      "best 6 features: \n",
      "3429.939407434297\n"
     ]
    }
   ],
   "source": [
    "for best in range(2,7):\n",
    "    print('best {} features: '.format(best))\n",
    "    print(knn_train_test_best(sorted_series_index[:best], 'price', \n",
    "                              normalized_cars))"
   ]
  },
  {
   "cell_type": "markdown",
   "metadata": {},
   "source": [
    "## Hyperparameter Tuning"
   ]
  },
  {
   "cell_type": "code",
   "execution_count": 21,
   "metadata": {
    "collapsed": true
   },
   "outputs": [],
   "source": [
    "def knn_train_test_k_best(cols, target, df):\n",
    "    k_vals = [x for x in range(1,26)]\n",
    "    avg_rmse_dict = {}\n",
    "    for k in k_vals:\n",
    "        kf = KFold(n_splits=2, shuffle=True, random_state=1)\n",
    "        model = KNeighborsRegressor(n_neighbors=k)\n",
    "        mses = cross_val_score(model, df[cols], df[target], \n",
    "                    scoring='neg_mean_squared_error', cv=kf)\n",
    "        rmses = (abs(mses))**0.5\n",
    "        avg_rmse = np.mean(rmses)\n",
    "        avg_rmse_dict[k] = avg_rmse\n",
    "    return avg_rmse_dict"
   ]
  },
  {
   "cell_type": "code",
   "execution_count": 22,
   "metadata": {
    "collapsed": false
   },
   "outputs": [
    {
     "data": {
      "text/plain": [
       "{2: {1: 3679.949898962563,\n",
       "  2: 3132.3971481966014,\n",
       "  3: 2942.136984611656,\n",
       "  4: 3127.183961130523,\n",
       "  5: 3280.346853325223,\n",
       "  6: 3463.6996288453875,\n",
       "  7: 3604.8826326935714,\n",
       "  8: 3726.773177874364,\n",
       "  9: 3940.6574822647076,\n",
       "  10: 4101.019695494881,\n",
       "  11: 4215.264347494822,\n",
       "  12: 4317.980195168363,\n",
       "  13: 4419.328251706245,\n",
       "  14: 4440.530802722442,\n",
       "  15: 4486.269107348751,\n",
       "  16: 4606.314147240047,\n",
       "  17: 4682.365189065014,\n",
       "  18: 4705.622465349787,\n",
       "  19: 4710.504126718423,\n",
       "  20: 4671.295738342903,\n",
       "  21: 4637.852320989703,\n",
       "  22: 4664.269628964048,\n",
       "  23: 4702.302697653737,\n",
       "  24: 4749.142852641662,\n",
       "  25: 4832.460366824267},\n",
       " 3: {1: 3228.089618601807,\n",
       "  2: 3271.7951248067775,\n",
       "  3: 3299.604139982861,\n",
       "  4: 3425.695681450972,\n",
       "  5: 3422.0286056245513,\n",
       "  6: 3460.682554307003,\n",
       "  7: 3633.2246919526388,\n",
       "  8: 3758.930708511786,\n",
       "  9: 3794.1782089124117,\n",
       "  10: 3936.5821642605,\n",
       "  11: 4055.1661765519602,\n",
       "  12: 4068.520352940378,\n",
       "  13: 4059.1438643083416,\n",
       "  14: 4166.755564172431,\n",
       "  15: 4222.275678916842,\n",
       "  16: 4254.688413008703,\n",
       "  17: 4285.897612805438,\n",
       "  18: 4363.339280426155,\n",
       "  19: 4402.698630509372,\n",
       "  20: 4382.878967310901,\n",
       "  21: 4449.447393882148,\n",
       "  22: 4479.255000150333,\n",
       "  23: 4523.475073162415,\n",
       "  24: 4576.429875968371,\n",
       "  25: 4613.02813166361},\n",
       " 4: {1: 3030.5248278672093,\n",
       "  2: 2980.559979000539,\n",
       "  3: 3150.2075312007964,\n",
       "  4: 3327.681692065218,\n",
       "  5: 3299.907917055727,\n",
       "  6: 3580.918241263753,\n",
       "  7: 3647.1358201656417,\n",
       "  8: 3757.5862069952973,\n",
       "  9: 3911.6534800332493,\n",
       "  10: 3988.7369030527543,\n",
       "  11: 4017.41291167254,\n",
       "  12: 4098.773762985355,\n",
       "  13: 4128.472588427775,\n",
       "  14: 4185.607631318053,\n",
       "  15: 4289.733289842793,\n",
       "  16: 4319.732973607775,\n",
       "  17: 4359.774618442579,\n",
       "  18: 4412.145494992377,\n",
       "  19: 4477.599917142445,\n",
       "  20: 4450.460064748664,\n",
       "  21: 4502.628712896445,\n",
       "  22: 4530.0572767656395,\n",
       "  23: 4558.521672822759,\n",
       "  24: 4594.246031892847,\n",
       "  25: 4600.593650690549},\n",
       " 5: {1: 3275.6608845193887,\n",
       "  2: 2896.8425991804934,\n",
       "  3: 3029.194644842433,\n",
       "  4: 3251.8439357102125,\n",
       "  5: 3383.9617472246973,\n",
       "  6: 3521.0805596314744,\n",
       "  7: 3584.3686456151845,\n",
       "  8: 3728.9924418633263,\n",
       "  9: 3837.733993038416,\n",
       "  10: 3900.0649446061643,\n",
       "  11: 4040.99253757897,\n",
       "  12: 4060.163542576229,\n",
       "  13: 4134.8042587016425,\n",
       "  14: 4218.87987610142,\n",
       "  15: 4281.419344481211,\n",
       "  16: 4341.720747252731,\n",
       "  17: 4392.651539406914,\n",
       "  18: 4450.20842986284,\n",
       "  19: 4493.911001963944,\n",
       "  20: 4513.329749936667,\n",
       "  21: 4586.1716551687405,\n",
       "  22: 4579.055499771748,\n",
       "  23: 4615.2953308052,\n",
       "  24: 4637.167624060384,\n",
       "  25: 4676.049148426489}}"
      ]
     },
     "execution_count": 22,
     "metadata": {},
     "output_type": "execute_result"
    }
   ],
   "source": [
    "# Selecting only the top 4 models in the last step\n",
    "rmse_dict_bests = {}\n",
    "for best in [2, 3, 4, 5]:\n",
    "    rmse_dict_bests[best] = knn_train_test_k_best(\n",
    "                            sorted_series_index[:best], 'price', \n",
    "                            normalized_cars)\n",
    "rmse_dict_bests"
   ]
  },
  {
   "cell_type": "code",
   "execution_count": 23,
   "metadata": {
    "collapsed": false
   },
   "outputs": [
    {
     "data": {
      "text/plain": [
       "<matplotlib.legend.Legend at 0x7f623b00ad68>"
      ]
     },
     "execution_count": 23,
     "metadata": {},
     "output_type": "execute_result"
    },
    {
     "data": {
      "image/png": "[encoded data removed]",
      "text/plain": [
       "<matplotlib.figure.Figure at 0x7f623b00afd0>"
      ]
     },
     "metadata": {},
     "output_type": "display_data"
    }
   ],
   "source": [
    "for k,v in rmse_dict_bests.items():\n",
    "    x, y = zip(*sorted(v.items()))\n",
    "    plt.plot(x,y, label=\"{}\".format(k))\n",
    "    \n",
    "plt.xlabel('k value')\n",
    "plt.ylabel('RMSE')\n",
    "plt.legend()"
   ]
  },
  {
   "cell_type": "code",
   "execution_count": 24,
   "metadata": {
    "collapsed": false
   },
   "outputs": [
    {
     "name": "stdout",
     "output_type": "stream",
     "text": [
      "For the 2 best features, the optimal k is 3, with a RMSE = 2942.14 \n",
      "For the 3 best features, the optimal k is 1, with a RMSE = 3228.09 \n",
      "For the 4 best features, the optimal k is 2, with a RMSE = 2980.56 \n",
      "For the 5 best features, the optimal k is 2, with a RMSE = 2896.84 \n"
     ]
    }
   ],
   "source": [
    "for k,v in rmse_dict_bests.items():\n",
    "    min_key = min(v, key=v.get)\n",
    "    min_value = round(min(v.values()), 2)\n",
    "    print(\"For the {} best features, the optimal k is {}, with a RMSE = {} \".format(k, min_key, min_value))"
   ]
  },
  {
   "cell_type": "markdown",
   "metadata": {
    "collapsed": true
   },
   "source": [
    "# Conclusions\n",
    "\n",
    "Based on our validation and hyperparameter tuning we have reached to following conclusion:\n",
    "\n",
    "- The best combination of features to get most accurate result is using the five best features: engine_size, horsepower, curb-weight, highway-mpg and width.\n",
    "- The best k value to get most accurate result is 2."
   ]
  }
 ],
 "metadata": {
  "kernelspec": {
   "display_name": "Python 3",
   "language": "python",
   "name": "python3"
  },
  "language_info": {
   "codemirror_mode": {
    "name": "ipython",
    "version": 3
   },
   "file_extension": ".py",
   "mimetype": "text/x-python",
   "name": "python",
   "nbconvert_exporter": "python",
   "pygments_lexer": "ipython3",
   "version": "3.4.3"
  }
 },
 "nbformat": 4,
 "nbformat_minor": 2
}
