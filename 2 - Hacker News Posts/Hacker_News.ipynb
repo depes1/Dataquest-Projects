{
 "cells": [
  {
   "cell_type": "markdown",
   "metadata": {
    "collapsed": true
   },
   "source": [
    "# Comparing two types of posts on Hacker News\n",
    "\n",
    "**Hacker News** is a site where user-submmited stories (posts) are voted and commented upon, similar to Reddit. It is extremely popular in technology and startup circles, and posts that make it to the top of Hacker News' listing can get hundreds of thousands of visitors as a result.\n",
    "\n",
    "In this project, we are interested especifically in two types of posts: whose titles begin with either `Ask HN` or `Show HN`. The first one is used to ask the Hacker News community a specific question and the last one to show the community a project, product or just generally something interesting.\n",
    "\n",
    "We will compare these two types of posts to determine **what type (Ask HN or Show HN) receive more comments on average and if posts created at a certain time receive more comments on average.**"
   ]
  },
  {
   "cell_type": "code",
   "execution_count": 1,
   "metadata": {},
   "outputs": [
    {
     "name": "stdout",
     "output_type": "stream",
     "text": [
      "[['id', 'title', 'url', 'num_points', 'num_comments', 'author', 'created_at'], ['12224879', 'Interactive Dynamic Video', 'http://www.interactivedynamicvideo.com/', '386', '52', 'ne0phyte', '8/4/2016 11:52'], ['10975351', 'How to Use Open Source and Shut the Fuck Up at the Same Time', 'http://hueniverse.com/2016/01/26/how-to-use-open-source-and-shut-the-fuck-up-at-the-same-time/', '39', '10', 'josep2', '1/26/2016 19:30'], ['11964716', \"Florida DJs May Face Felony for April Fools' Water Joke\", 'http://www.thewire.com/entertainment/2013/04/florida-djs-april-fools-water-joke/63798/', '2', '1', 'vezycash', '6/23/2016 22:20'], ['11919867', 'Technology ventures: From Idea to Enterprise', 'https://www.amazon.com/Technology-Ventures-Enterprise-Thomas-Byers/dp/0073523429', '3', '1', 'hswarna', '6/17/2016 0:01']]\n"
     ]
    }
   ],
   "source": [
    "from csv import reader\n",
    "opened_file = open('hacker_news.csv')\n",
    "read_file = reader(opened_file)\n",
    "hn = list(read_file)\n",
    "print(hn[:5])"
   ]
  },
  {
   "cell_type": "code",
   "execution_count": 2,
   "metadata": {},
   "outputs": [
    {
     "name": "stdout",
     "output_type": "stream",
     "text": [
      "['id', 'title', 'url', 'num_points', 'num_comments', 'author', 'created_at']\n"
     ]
    }
   ],
   "source": [
    "headers = hn[0]\n",
    "print(headers)"
   ]
  },
  {
   "cell_type": "code",
   "execution_count": 3,
   "metadata": {},
   "outputs": [
    {
     "name": "stdout",
     "output_type": "stream",
     "text": [
      "[['12224879', 'Interactive Dynamic Video', 'http://www.interactivedynamicvideo.com/', '386', '52', 'ne0phyte', '8/4/2016 11:52'], ['10975351', 'How to Use Open Source and Shut the Fuck Up at the Same Time', 'http://hueniverse.com/2016/01/26/how-to-use-open-source-and-shut-the-fuck-up-at-the-same-time/', '39', '10', 'josep2', '1/26/2016 19:30'], ['11964716', \"Florida DJs May Face Felony for April Fools' Water Joke\", 'http://www.thewire.com/entertainment/2013/04/florida-djs-april-fools-water-joke/63798/', '2', '1', 'vezycash', '6/23/2016 22:20'], ['11919867', 'Technology ventures: From Idea to Enterprise', 'https://www.amazon.com/Technology-Ventures-Enterprise-Thomas-Byers/dp/0073523429', '3', '1', 'hswarna', '6/17/2016 0:01'], ['10301696', 'Note by Note: The Making of Steinway L1037 (2007)', 'http://www.nytimes.com/2007/11/07/movies/07stein.html?_r=0', '8', '2', 'walterbell', '9/30/2015 4:12']]\n",
      "\n",
      "\n",
      "20100\n"
     ]
    }
   ],
   "source": [
    "hn = hn[1:]\n",
    "print(hn[:5])\n",
    "print('\\n')\n",
    "print(len(hn))"
   ]
  },
  {
   "cell_type": "markdown",
   "metadata": {},
   "source": [
    "# Looking for what type receives more comments"
   ]
  },
  {
   "cell_type": "code",
   "execution_count": 4,
   "metadata": {},
   "outputs": [
    {
     "name": "stdout",
     "output_type": "stream",
     "text": [
      "1744\n",
      "1162\n",
      "17194\n"
     ]
    }
   ],
   "source": [
    "ask_posts = []\n",
    "show_posts = []\n",
    "other_posts = []\n",
    "for row in hn:\n",
    "    title = row[1]\n",
    "    if title.lower().startswith('ask hn'):\n",
    "        ask_posts.append(row)\n",
    "    elif title.lower().startswith('show hn'):\n",
    "        show_posts.append(row)\n",
    "    else:\n",
    "        other_posts.append(row)\n",
    "        \n",
    "print(len(ask_posts))\n",
    "print(len(show_posts))\n",
    "print(len(other_posts))"
   ]
  },
  {
   "cell_type": "markdown",
   "metadata": {},
   "source": [
    "After separating `Ask HN` and `Show HN` into two different lists, we're going to determine whether ask posts or show posts receive more comments on average."
   ]
  },
  {
   "cell_type": "code",
   "execution_count": 5,
   "metadata": {},
   "outputs": [
    {
     "name": "stdout",
     "output_type": "stream",
     "text": [
      "14.038417431192661\n"
     ]
    }
   ],
   "source": [
    "total_ask_comments = 0\n",
    "for row in ask_posts:\n",
    "    comment = int(row[4])\n",
    "    total_ask_comments += comment\n",
    "    \n",
    "avg_ask_comments = total_ask_comments/len(ask_posts)\n",
    "print(avg_ask_comments)"
   ]
  },
  {
   "cell_type": "code",
   "execution_count": 6,
   "metadata": {},
   "outputs": [
    {
     "name": "stdout",
     "output_type": "stream",
     "text": [
      "10.31669535283993\n"
     ]
    }
   ],
   "source": [
    "total_show_comments = 0\n",
    "for row in show_posts:\n",
    "    comment = int(row[4])\n",
    "    total_show_comments += comment\n",
    "    \n",
    "avg_show_comments = total_show_comments/len(show_posts)\n",
    "print(avg_show_comments)"
   ]
  },
  {
   "cell_type": "markdown",
   "metadata": {},
   "source": [
    "Looking to this overview, we have more ask posts comments (1744 against 1162 show posts). Even though, having a higher denominator in average calculation, the average number of comments on ask posts (14.04) is higher than show posts (10.32).\n",
    "\n",
    "However, in order to confirm if these numbers aren't distorsed by few posts with a lot of comments, let's sort these lists in descending order of number of comments and check this out."
   ]
  },
  {
   "cell_type": "code",
   "execution_count": 7,
   "metadata": {},
   "outputs": [
    {
     "name": "stdout",
     "output_type": "stream",
     "text": [
      "[947, 910, 868, 691, 520, 514, 477, 383, 283, 281, 266, 250, 234, 231, 202]\n"
     ]
    }
   ],
   "source": [
    "sorted_ask_posts = []\n",
    "for row in ask_posts:\n",
    "    comments = int(row[4])\n",
    "    sorted_ask_posts.append(comments)\n",
    "sorted_ask_posts = sorted(sorted_ask_posts, reverse=True)\n",
    "print(sorted_ask_posts[:15])"
   ]
  },
  {
   "cell_type": "code",
   "execution_count": 8,
   "metadata": {},
   "outputs": [
    {
     "name": "stdout",
     "output_type": "stream",
     "text": [
      "[306, 233, 206, 197, 168, 167, 163, 143, 134, 113, 106, 103, 102, 100, 98]\n"
     ]
    }
   ],
   "source": [
    "sorted_show_posts = []\n",
    "for row in show_posts:\n",
    "    comments = int(row[4])\n",
    "    sorted_show_posts.append(comments)\n",
    "sorted_show_posts = sorted(sorted_show_posts, reverse=True)\n",
    "print(sorted_show_posts[:15])"
   ]
  },
  {
   "cell_type": "markdown",
   "metadata": {},
   "source": [
    "As we can see, if we sum the most commented 15 ask posts and compare to the same list of show posts, it's possible to see a huge difference between them."
   ]
  },
  {
   "cell_type": "code",
   "execution_count": 9,
   "metadata": {},
   "outputs": [
    {
     "name": "stdout",
     "output_type": "stream",
     "text": [
      "Sum of the most commented 15 Ask Posts: 7057\n",
      "Sum of the most commented 15 Show Posts: 2339\n"
     ]
    }
   ],
   "source": [
    "sum_ask = 0\n",
    "n1 = 0\n",
    "for row in sorted_ask_posts:\n",
    "    sum_ask += row\n",
    "    n1 += 1\n",
    "    if n1 == 15:\n",
    "        break\n",
    "\n",
    "sum_show = 0\n",
    "n2 = 0\n",
    "for row in sorted_show_posts:\n",
    "    sum_show += row\n",
    "    n2 += 1\n",
    "    if n2 == 15:\n",
    "        break\n",
    "    \n",
    "print('Sum of the most commented 15 Ask Posts: ' + str(sum_ask))\n",
    "print('Sum of the most commented 15 Show Posts: ' + str(sum_show))"
   ]
  },
  {
   "cell_type": "markdown",
   "metadata": {},
   "source": [
    "We can say that although ask posts have a higher average of number of comments, it's heavily influenced by few posts with a lot of comments. Actually, the \"most right thing\" to do is to calculate the standard deviation of both lists and do a hypotesis test to confirm if that difference of averages is statistically significant. However, that's not the purpose of the project and we can deepen our analysis later after gathering more knowledge with Python."
   ]
  },
  {
   "cell_type": "markdown",
   "metadata": {},
   "source": [
    "# Time to attract comments\n",
    "Now, let's determine if posts created at a certain time are more likely to attract comments, starting with ask posts. "
   ]
  },
  {
   "cell_type": "code",
   "execution_count": 10,
   "metadata": {},
   "outputs": [
    {
     "data": {
      "text/plain": [
       "{'09': 251,\n",
       " '13': 1253,\n",
       " '10': 793,\n",
       " '14': 1416,\n",
       " '16': 1814,\n",
       " '23': 543,\n",
       " '12': 687,\n",
       " '17': 1146,\n",
       " '15': 4477,\n",
       " '21': 1745,\n",
       " '20': 1722,\n",
       " '02': 1381,\n",
       " '18': 1439,\n",
       " '03': 421,\n",
       " '05': 464,\n",
       " '19': 1188,\n",
       " '01': 683,\n",
       " '22': 479,\n",
       " '08': 492,\n",
       " '04': 337,\n",
       " '00': 447,\n",
       " '06': 397,\n",
       " '07': 267,\n",
       " '11': 641}"
      ]
     },
     "execution_count": 10,
     "metadata": {},
     "output_type": "execute_result"
    }
   ],
   "source": [
    "import datetime as dt\n",
    "result_list = []\n",
    "for row in ask_posts:\n",
    "    result_list.append([row[6], int(row[4])])\n",
    "    counts_by_hour = {}\n",
    "    comments_by_hour = {}\n",
    "    for row in result_list:\n",
    "        dt_str = row[0]\n",
    "        comment = row[1]\n",
    "        dt_str_splitted = dt_str.split()\n",
    "        dt_str_hour = dt_str_splitted[1]\n",
    "        dt_object = dt.datetime.strptime(dt_str_hour, \"%H:%M\")\n",
    "        dt_hour = dt_object.strftime(\"%H\")\n",
    "        if dt_hour not in counts_by_hour:\n",
    "            counts_by_hour[dt_hour] = 1\n",
    "            comments_by_hour[dt_hour] = comment\n",
    "        else:\n",
    "            counts_by_hour[dt_hour] += 1\n",
    "            comments_by_hour[dt_hour] += comment\n",
    "            \n",
    "comments_by_hour"
   ]
  },
  {
   "cell_type": "code",
   "execution_count": 11,
   "metadata": {},
   "outputs": [
    {
     "data": {
      "text/plain": [
       "{'09': 45,\n",
       " '13': 85,\n",
       " '10': 59,\n",
       " '14': 107,\n",
       " '16': 108,\n",
       " '23': 68,\n",
       " '12': 73,\n",
       " '17': 100,\n",
       " '15': 116,\n",
       " '21': 109,\n",
       " '20': 80,\n",
       " '02': 58,\n",
       " '18': 109,\n",
       " '03': 54,\n",
       " '05': 46,\n",
       " '19': 110,\n",
       " '01': 60,\n",
       " '22': 71,\n",
       " '08': 48,\n",
       " '04': 47,\n",
       " '00': 55,\n",
       " '06': 44,\n",
       " '07': 34,\n",
       " '11': 58}"
      ]
     },
     "execution_count": 11,
     "metadata": {},
     "output_type": "execute_result"
    }
   ],
   "source": [
    "counts_by_hour"
   ]
  },
  {
   "cell_type": "code",
   "execution_count": 12,
   "metadata": {},
   "outputs": [
    {
     "data": {
      "text/plain": [
       "[['09', 5.5777777777777775],\n",
       " ['13', 14.741176470588234],\n",
       " ['10', 13.440677966101696],\n",
       " ['14', 13.233644859813085],\n",
       " ['16', 16.796296296296298],\n",
       " ['23', 7.985294117647059],\n",
       " ['12', 9.41095890410959],\n",
       " ['17', 11.46],\n",
       " ['15', 38.5948275862069],\n",
       " ['21', 16.009174311926607],\n",
       " ['20', 21.525],\n",
       " ['02', 23.810344827586206],\n",
       " ['18', 13.20183486238532],\n",
       " ['03', 7.796296296296297],\n",
       " ['05', 10.08695652173913],\n",
       " ['19', 10.8],\n",
       " ['01', 11.383333333333333],\n",
       " ['22', 6.746478873239437],\n",
       " ['08', 10.25],\n",
       " ['04', 7.170212765957447],\n",
       " ['00', 8.127272727272727],\n",
       " ['06', 9.022727272727273],\n",
       " ['07', 7.852941176470588],\n",
       " ['11', 11.051724137931034]]"
      ]
     },
     "execution_count": 12,
     "metadata": {},
     "output_type": "execute_result"
    }
   ],
   "source": [
    "average = []\n",
    "for hour in comments_by_hour:\n",
    "    key1 = hour\n",
    "    for anotherhour in counts_by_hour:\n",
    "        key2 = anotherhour\n",
    "        if key1 == key2:\n",
    "            avg_by_hour = comments_by_hour[key1]/counts_by_hour[key2]\n",
    "            average.append([key2, avg_by_hour])\n",
    "            \n",
    "average"
   ]
  },
  {
   "cell_type": "markdown",
   "metadata": {},
   "source": [
    "To make easier the visualization, we gonna sort this list of lists and print the five highest values."
   ]
  },
  {
   "cell_type": "code",
   "execution_count": 13,
   "metadata": {
    "scrolled": true
   },
   "outputs": [
    {
     "data": {
      "text/plain": [
       "[[5.5777777777777775, '09'],\n",
       " [14.741176470588234, '13'],\n",
       " [13.440677966101696, '10'],\n",
       " [13.233644859813085, '14'],\n",
       " [16.796296296296298, '16'],\n",
       " [7.985294117647059, '23'],\n",
       " [9.41095890410959, '12'],\n",
       " [11.46, '17'],\n",
       " [38.5948275862069, '15'],\n",
       " [16.009174311926607, '21'],\n",
       " [21.525, '20'],\n",
       " [23.810344827586206, '02'],\n",
       " [13.20183486238532, '18'],\n",
       " [7.796296296296297, '03'],\n",
       " [10.08695652173913, '05'],\n",
       " [10.8, '19'],\n",
       " [11.383333333333333, '01'],\n",
       " [6.746478873239437, '22'],\n",
       " [10.25, '08'],\n",
       " [7.170212765957447, '04'],\n",
       " [8.127272727272727, '00'],\n",
       " [9.022727272727273, '06'],\n",
       " [7.852941176470588, '07'],\n",
       " [11.051724137931034, '11']]"
      ]
     },
     "execution_count": 13,
     "metadata": {},
     "output_type": "execute_result"
    }
   ],
   "source": [
    "swap_avg_by_hour = []\n",
    "for row in average:\n",
    "    swap_avg_by_hour.append([row[1], row[0]])\n",
    "    \n",
    "swap_avg_by_hour"
   ]
  },
  {
   "cell_type": "code",
   "execution_count": 20,
   "metadata": {},
   "outputs": [
    {
     "name": "stdout",
     "output_type": "stream",
     "text": [
      "Top 5 Hours for Ask Posts Comments\n",
      "15:00: 38.59 average comments per post\n",
      "02:00: 23.81 average comments per post\n",
      "20:00: 21.52 average comments per post\n",
      "16:00: 16.80 average comments per post\n",
      "21:00: 16.01 average comments per post\n"
     ]
    }
   ],
   "source": [
    "sorted_swap = sorted(swap_avg_by_hour, reverse=True)\n",
    "print(\"Top 5 Hours for Ask Posts Comments\")\n",
    "for row in sorted_swap[:5]:\n",
    "    avg = row[0]\n",
    "    time = row[1]    \n",
    "    string = \"{hour}: {average:.2f} average comments per post\"\n",
    "    str_formatted = string.format(hour=dt.datetime.strptime(time, \"%H\").strftime(\"%H:%M\"),\n",
    "              average=avg)\n",
    "    print(str_formatted)\n",
    "    "
   ]
  },
  {
   "cell_type": "markdown",
   "metadata": {},
   "source": [
    "As we can see above, the highest average comments per post is in a working hour at 15:00 with 38.59 comments per post, approximately 60% greater than the runner-up. Curiously, the 16:00 hour is the fourth place with 16.80, indicating high chances of receiving comments between this 15:00 - 17:00 interval. Furthermore, another good hour to receive comments in in 20:00 - 22:00 time range, since 20:00 is the 3th place and 21:00 is the 5th. \n",
    "\n",
    "According to the [dataset documentation](https://www.kaggle.com/hacker-news/hacker-news-posts), the timezone used is Eastern Time in the US (GMT-5).\n",
    "\n",
    "Where I live, Brazil, the timezone is two hours late (GMT-3), so the Top 5 would be:\n",
    "* 17:00: 38.59 average comments per post\n",
    "* 04:00: 23.81 average comments per post\n",
    "* 22:00: 21.52 average comments per post\n",
    "* 18:00: 16.80 average comments per post\n",
    "* 23:00: 16.01 average comments per post\n"
   ]
  },
  {
   "cell_type": "markdown",
   "metadata": {},
   "source": []
  }
 ],
 "metadata": {
  "kernelspec": {
   "display_name": "Python 3",
   "language": "python",
   "name": "python3"
  },
  "language_info": {
   "codemirror_mode": {
    "name": "ipython",
    "version": 3
   },
   "file_extension": ".py",
   "mimetype": "text/x-python",
   "name": "python",
   "nbconvert_exporter": "python",
   "pygments_lexer": "ipython3",
   "version": "3.8.2"
  }
 },
 "nbformat": 4,
 "nbformat_minor": 2
}
