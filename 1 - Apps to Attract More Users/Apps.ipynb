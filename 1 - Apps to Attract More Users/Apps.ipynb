{
 "cells": [
  {
   "cell_type": "markdown",
   "metadata": {},
   "source": [
    "# Analyzing data sets from AppleStore and GooglePlay\n",
    "* Our company builds only Android and iOS mobile apps that are free to download, which makes the main revenue stream comes from in-app ads. Thus, it is interesting to the company gathering as many users as possible. \n",
    "* This project is about to analyze data to help our developers **understand what type of apps are likely to attract more users on Google Play and App Store.**\n",
    "* My main goal in this project is to gain experience with structural elements and functions of Python in real situations and problems."
   ]
  },
  {
   "cell_type": "code",
   "execution_count": 3,
   "metadata": {},
   "outputs": [],
   "source": [
    "from csv import reader\n",
    "def open_data(file_name):\n",
    "    open_file = open(file_name)\n",
    "    readed_file = reader(open_file)\n",
    "    data = list(readed_file)\n",
    "    return data\n",
    "\n",
    "app_data = open_data('AppleStore.csv')\n",
    "google_data = open_data('googleplaystore.csv')"
   ]
  },
  {
   "cell_type": "code",
   "execution_count": 4,
   "metadata": {},
   "outputs": [],
   "source": [
    "def explore_data(dataset, start, end, rows_and_columns=False):\n",
    "    dataset_slice = dataset[start:end]    \n",
    "    for row in dataset_slice:\n",
    "        print(row)\n",
    "        print('\\n') # adds a new (empty) line after each row\n",
    "\n",
    "    if rows_and_columns:\n",
    "        print('Number of rows:', len(dataset))\n",
    "        print('Number of columns:', len(dataset[0]))"
   ]
  },
  {
   "cell_type": "code",
   "execution_count": 5,
   "metadata": {},
   "outputs": [
    {
     "name": "stdout",
     "output_type": "stream",
     "text": [
      "['Photo Editor & Candy Camera & Grid & ScrapBook', 'ART_AND_DESIGN', '4.1', '159', '19M', '10,000+', 'Free', '0', 'Everyone', 'Art & Design', 'January 7, 2018', '1.0.0', '4.0.3 and up']\n",
      "\n",
      "\n",
      "['Coloring book moana', 'ART_AND_DESIGN', '3.9', '967', '14M', '500,000+', 'Free', '0', 'Everyone', 'Art & Design;Pretend Play', 'January 15, 2018', '2.0.0', '4.0.3 and up']\n",
      "\n",
      "\n",
      "['U Launcher Lite – FREE Live Cool Themes, Hide Apps', 'ART_AND_DESIGN', '4.7', '87510', '8.7M', '5,000,000+', 'Free', '0', 'Everyone', 'Art & Design', 'August 1, 2018', '1.2.4', '4.0.3 and up']\n",
      "\n",
      "\n",
      "['Sketch - Draw & Paint', 'ART_AND_DESIGN', '4.5', '215644', '25M', '50,000,000+', 'Free', '0', 'Teen', 'Art & Design', 'June 8, 2018', 'Varies with device', '4.2 and up']\n",
      "\n",
      "\n",
      "['Pixel Draw - Number Art Coloring Book', 'ART_AND_DESIGN', '4.3', '967', '2.8M', '100,000+', 'Free', '0', 'Everyone', 'Art & Design;Creativity', 'June 20, 2018', '1.1', '4.4 and up']\n",
      "\n",
      "\n",
      "Number of rows: 10841\n",
      "Number of columns: 13\n"
     ]
    }
   ],
   "source": [
    "explore_data(dataset=google_data[1:], start=0, end=5, rows_and_columns=True)"
   ]
  },
  {
   "cell_type": "code",
   "execution_count": 6,
   "metadata": {},
   "outputs": [
    {
     "name": "stdout",
     "output_type": "stream",
     "text": [
      "['284882215', 'Facebook', '389879808', 'USD', '0.0', '2974676', '212', '3.5', '3.5', '95.0', '4+', 'Social Networking', '37', '1', '29', '1']\n",
      "\n",
      "\n",
      "['389801252', 'Instagram', '113954816', 'USD', '0.0', '2161558', '1289', '4.5', '4.0', '10.23', '12+', 'Photo & Video', '37', '0', '29', '1']\n",
      "\n",
      "\n",
      "['529479190', 'Clash of Clans', '116476928', 'USD', '0.0', '2130805', '579', '4.5', '4.5', '9.24.12', '9+', 'Games', '38', '5', '18', '1']\n",
      "\n",
      "\n",
      "['420009108', 'Temple Run', '65921024', 'USD', '0.0', '1724546', '3842', '4.5', '4.0', '1.6.2', '9+', 'Games', '40', '5', '1', '1']\n",
      "\n",
      "\n",
      "['284035177', 'Pandora - Music & Radio', '130242560', 'USD', '0.0', '1126879', '3594', '4.0', '4.5', '8.4.1', '12+', 'Music', '37', '4', '1', '1']\n",
      "\n",
      "\n",
      "Number of rows: 7197\n",
      "Number of columns: 16\n"
     ]
    }
   ],
   "source": [
    "explore_data(dataset=app_data[1:], start=0, end=5, rows_and_columns=True)"
   ]
  },
  {
   "cell_type": "code",
   "execution_count": 7,
   "metadata": {},
   "outputs": [
    {
     "name": "stdout",
     "output_type": "stream",
     "text": [
      "['id', 'track_name', 'size_bytes', 'currency', 'price', 'rating_count_tot', 'rating_count_ver', 'user_rating', 'user_rating_ver', 'ver', 'cont_rating', 'prime_genre', 'sup_devices.num', 'ipadSc_urls.num', 'lang.num', 'vpp_lic']\n",
      "['App', 'Category', 'Rating', 'Reviews', 'Size', 'Installs', 'Type', 'Price', 'Content Rating', 'Genres', 'Last Updated', 'Current Ver', 'Android Ver']\n"
     ]
    }
   ],
   "source": [
    "print(app_data[0])\n",
    "print(google_data[0])"
   ]
  },
  {
   "cell_type": "markdown",
   "metadata": {},
   "source": [
    "The columns that could help us with our analysis are:\n",
    "\n",
    "**app_data**: size_bytes; price; rating_count_tot; user_rating; cont_rating; prime_genre\n",
    "\n",
    "**google_data**: Category; Rating; Reviews; Size; Installs; Type; Content Rating; Genres"
   ]
  },
  {
   "cell_type": "code",
   "execution_count": 8,
   "metadata": {},
   "outputs": [
    {
     "name": "stdout",
     "output_type": "stream",
     "text": [
      "['Life Made WI-Fi Touchscreen Photo Frame', '1.9', '19', '3.0M', '1,000+', 'Free', '0', 'Everyone', '', 'February 11, 2018', '1.0.19', '4.0 and up']\n"
     ]
    }
   ],
   "source": [
    "print(google_data[10473])"
   ]
  },
  {
   "cell_type": "markdown",
   "metadata": {},
   "source": [
    "The row above had a missing Category data, so we deleted it to clean the inaccuracies of our dataset and don't mess our data analysis. This error was found by the kaggle discussion section of this database. [Link] (https://www.kaggle.com/lava18/google-play-store-apps/discussion/66015)"
   ]
  },
  {
   "cell_type": "code",
   "execution_count": 9,
   "metadata": {},
   "outputs": [],
   "source": [
    "del google_data[10473]"
   ]
  },
  {
   "cell_type": "code",
   "execution_count": 10,
   "metadata": {},
   "outputs": [
    {
     "name": "stdout",
     "output_type": "stream",
     "text": [
      "['TownWiFi | Wi-Fi Everywhere', 'COMMUNICATION', '3.9', '2372', '58M', '500,000+', 'Free', '0', 'Everyone', 'Communication', 'August 2, 2018', '4.2.1', '4.2 and up']\n",
      "\n",
      "\n",
      "['Jazz Wi-Fi', 'COMMUNICATION', '3.4', '49', '4.0M', '10,000+', 'Free', '0', 'Everyone', 'Communication', 'February 10, 2017', '0.1', '2.3 and up']\n",
      "\n",
      "\n",
      "['Xposed Wi-Fi-Pwd', 'PERSONALIZATION', '3.5', '1042', '404k', '100,000+', 'Free', '0', 'Everyone', 'Personalization', 'August 5, 2014', '3.0.0', '4.0.3 and up']\n",
      "\n",
      "\n",
      "['osmino Wi-Fi: free WiFi', 'TOOLS', '4.2', '134203', '4.1M', '10,000,000+', 'Free', '0', 'Everyone', 'Tools', 'August 7, 2018', '6.06.14', '4.4 and up']\n",
      "\n",
      "\n",
      "['Sat-Fi Voice', 'COMMUNICATION', '3.4', '37', '14M', '1,000+', 'Free', '0', 'Everyone', 'Communication', 'November 21, 2014', '2.2.1.5', '2.2 and up']\n",
      "\n",
      "\n"
     ]
    }
   ],
   "source": [
    "explore_data(dataset=google_data, start=10470, end=10475)"
   ]
  },
  {
   "cell_type": "markdown",
   "metadata": {},
   "source": [
    "Besides this missing data innacuracy, the dataset has duplicate entries, which will also contaminate our analysis since we don't want count apps more than once, so we need to remove it. "
   ]
  },
  {
   "cell_type": "code",
   "execution_count": 11,
   "metadata": {},
   "outputs": [
    {
     "name": "stdout",
     "output_type": "stream",
     "text": [
      "Number of duplicate apps:  1181\n",
      "\n",
      "\n",
      "Number of unique apps:  9659\n",
      "\n",
      "\n",
      "['Quick PDF Scanner + OCR FREE', 'Box', 'Google My Business', 'ZOOM Cloud Meetings', 'join.me - Simple Meetings', 'Box', 'Zenefits', 'Google Ads', 'Google My Business', 'Slack', 'FreshBooks Classic', 'Insightly CRM', 'QuickBooks Accounting: Invoicing & Expenses', 'HipChat - Chat Built for Teams', 'Xero Accounting Software']\n",
      "\n",
      "\n",
      "['Photo Editor & Candy Camera & Grid & ScrapBook', 'Coloring book moana', 'U Launcher Lite – FREE Live Cool Themes, Hide Apps', 'Sketch - Draw & Paint', 'Pixel Draw - Number Art Coloring Book', 'Paper flowers instructions', 'Smoke Effect Photo Maker - Smoke Editor', 'Infinite Painter', 'Garden Coloring Book', 'Kids Paint Free - Drawing Fun']\n"
     ]
    }
   ],
   "source": [
    "duplicate_data = []\n",
    "unique_data = []\n",
    "\n",
    "for row in google_data[1:]:\n",
    "    appname = row[0]\n",
    "\n",
    "    if appname in unique_data:\n",
    "        duplicate_data.append(appname)\n",
    "    else:\n",
    "        unique_data.append(appname)\n",
    "\n",
    "print('Number of duplicate apps: ', len(duplicate_data))        \n",
    "print('\\n')\n",
    "print('Number of unique apps: ', len(unique_data))   \n",
    "print('\\n')   \n",
    "print(duplicate_data[:15])\n",
    "print('\\n')\n",
    "print(unique_data[:10])\n",
    "    "
   ]
  },
  {
   "cell_type": "markdown",
   "metadata": {},
   "source": [
    " In these cases, we have to determine which row of these duplicates we need to take."
   ]
  },
  {
   "cell_type": "code",
   "execution_count": 12,
   "metadata": {},
   "outputs": [
    {
     "name": "stdout",
     "output_type": "stream",
     "text": [
      "['Instagram', 'SOCIAL', '4.5', '66577313', 'Varies with device', '1,000,000,000+', 'Free', '0', 'Teen', 'Social', 'July 31, 2018', 'Varies with device', 'Varies with device']\n",
      "['Instagram', 'SOCIAL', '4.5', '66577446', 'Varies with device', '1,000,000,000+', 'Free', '0', 'Teen', 'Social', 'July 31, 2018', 'Varies with device', 'Varies with device']\n",
      "['Instagram', 'SOCIAL', '4.5', '66577313', 'Varies with device', '1,000,000,000+', 'Free', '0', 'Teen', 'Social', 'July 31, 2018', 'Varies with device', 'Varies with device']\n",
      "['Instagram', 'SOCIAL', '4.5', '66509917', 'Varies with device', '1,000,000,000+', 'Free', '0', 'Teen', 'Social', 'July 31, 2018', 'Varies with device', 'Varies with device']\n"
     ]
    }
   ],
   "source": [
    "for app in google_data:\n",
    "    name = app[0]\n",
    "    if name == 'Instagram':\n",
    "        print(app)"
   ]
  },
  {
   "cell_type": "markdown",
   "metadata": {},
   "source": [
    "Analysing the duplicates above we can see that the number of Reviews is the only column values changing. It is because these data was taken in different times, so the higher the number of Reviews the more recent this information was taken. This way, we gonna get only the most recent one (that's our filter).\n",
    "\n",
    "So, let's remove these duplicates."
   ]
  },
  {
   "cell_type": "code",
   "execution_count": 13,
   "metadata": {
    "scrolled": true
   },
   "outputs": [
    {
     "name": "stdout",
     "output_type": "stream",
     "text": [
      "9659\n"
     ]
    }
   ],
   "source": [
    "reviews_max = {}\n",
    "for app in google_data[1:]:\n",
    "    name = app[0]\n",
    "    n_reviews = float(app[3])\n",
    "    if name in reviews_max and reviews_max[name] < n_reviews:\n",
    "        reviews_max[name] = n_reviews\n",
    "    elif name not in reviews_max:\n",
    "        reviews_max[name] = n_reviews\n",
    "        \n",
    "print(len(reviews_max))"
   ]
  },
  {
   "cell_type": "code",
   "execution_count": 14,
   "metadata": {},
   "outputs": [
    {
     "name": "stdout",
     "output_type": "stream",
     "text": [
      "[['Photo Editor & Candy Camera & Grid & ScrapBook', 'ART_AND_DESIGN', '4.1', '159', '19M', '10,000+', 'Free', '0', 'Everyone', 'Art & Design', 'January 7, 2018', '1.0.0', '4.0.3 and up'], ['U Launcher Lite – FREE Live Cool Themes, Hide Apps', 'ART_AND_DESIGN', '4.7', '87510', '8.7M', '5,000,000+', 'Free', '0', 'Everyone', 'Art & Design', 'August 1, 2018', '1.2.4', '4.0.3 and up'], ['Sketch - Draw & Paint', 'ART_AND_DESIGN', '4.5', '215644', '25M', '50,000,000+', 'Free', '0', 'Teen', 'Art & Design', 'June 8, 2018', 'Varies with device', '4.2 and up'], ['Pixel Draw - Number Art Coloring Book', 'ART_AND_DESIGN', '4.3', '967', '2.8M', '100,000+', 'Free', '0', 'Everyone', 'Art & Design;Creativity', 'June 20, 2018', '1.1', '4.4 and up'], ['Paper flowers instructions', 'ART_AND_DESIGN', '4.4', '167', '5.6M', '50,000+', 'Free', '0', 'Everyone', 'Art & Design', 'March 26, 2017', '1.0', '2.3 and up'], ['Smoke Effect Photo Maker - Smoke Editor', 'ART_AND_DESIGN', '3.8', '178', '19M', '50,000+', 'Free', '0', 'Everyone', 'Art & Design', 'April 26, 2018', '1.1', '4.0.3 and up'], ['Infinite Painter', 'ART_AND_DESIGN', '4.1', '36815', '29M', '1,000,000+', 'Free', '0', 'Everyone', 'Art & Design', 'June 14, 2018', '6.1.61.1', '4.2 and up'], ['Garden Coloring Book', 'ART_AND_DESIGN', '4.4', '13791', '33M', '1,000,000+', 'Free', '0', 'Everyone', 'Art & Design', 'September 20, 2017', '2.9.2', '3.0 and up'], ['Kids Paint Free - Drawing Fun', 'ART_AND_DESIGN', '4.7', '121', '3.1M', '10,000+', 'Free', '0', 'Everyone', 'Art & Design;Creativity', 'July 3, 2018', '2.8', '4.0.3 and up'], ['Text on Photo - Fonteee', 'ART_AND_DESIGN', '4.4', '13880', '28M', '1,000,000+', 'Free', '0', 'Everyone', 'Art & Design', 'October 27, 2017', '1.0.4', '4.1 and up']]\n"
     ]
    }
   ],
   "source": [
    "android_clean = []\n",
    "already_added = []\n",
    "for app in google_data[1:]:\n",
    "    name = app[0]\n",
    "    n_reviews = float(app[3])\n",
    "    if (name not in already_added) and (n_reviews == reviews_max[name]):\n",
    "        android_clean.append(app)\n",
    "        already_added.append(name)\n",
    "        \n",
    "print(android_clean[:10])\n",
    "google_data_clean = android_clean"
   ]
  },
  {
   "cell_type": "markdown",
   "metadata": {},
   "source": [
    "We needed to add this supplementary condition (already_added) to account for those cases where the highest number of reviews of a duplicate app is the same for more than one entry (for example, the Box app has three entries, and the number of reviews is the same). If we just check for reviews_max[name] == n_reviews, we'll still end up with duplicate entries for some apps."
   ]
  },
  {
   "cell_type": "code",
   "execution_count": 15,
   "metadata": {},
   "outputs": [
    {
     "name": "stdout",
     "output_type": "stream",
     "text": [
      "['Photo Editor & Candy Camera & Grid & ScrapBook', 'ART_AND_DESIGN', '4.1', '159', '19M', '10,000+', 'Free', '0', 'Everyone', 'Art & Design', 'January 7, 2018', '1.0.0', '4.0.3 and up']\n",
      "\n",
      "\n",
      "['U Launcher Lite – FREE Live Cool Themes, Hide Apps', 'ART_AND_DESIGN', '4.7', '87510', '8.7M', '5,000,000+', 'Free', '0', 'Everyone', 'Art & Design', 'August 1, 2018', '1.2.4', '4.0.3 and up']\n",
      "\n",
      "\n",
      "['Sketch - Draw & Paint', 'ART_AND_DESIGN', '4.5', '215644', '25M', '50,000,000+', 'Free', '0', 'Teen', 'Art & Design', 'June 8, 2018', 'Varies with device', '4.2 and up']\n",
      "\n",
      "\n",
      "['Pixel Draw - Number Art Coloring Book', 'ART_AND_DESIGN', '4.3', '967', '2.8M', '100,000+', 'Free', '0', 'Everyone', 'Art & Design;Creativity', 'June 20, 2018', '1.1', '4.4 and up']\n",
      "\n",
      "\n",
      "['Paper flowers instructions', 'ART_AND_DESIGN', '4.4', '167', '5.6M', '50,000+', 'Free', '0', 'Everyone', 'Art & Design', 'March 26, 2017', '1.0', '2.3 and up']\n",
      "\n",
      "\n",
      "Number of rows: 9659\n",
      "Number of columns: 13\n"
     ]
    }
   ],
   "source": [
    "explore_data(dataset=android_clean, start=0, end=5, rows_and_columns=True)"
   ]
  },
  {
   "cell_type": "markdown",
   "metadata": {},
   "source": [
    "Now, let's also check if there are duplicates in app store dataset."
   ]
  },
  {
   "cell_type": "code",
   "execution_count": 16,
   "metadata": {},
   "outputs": [
    {
     "name": "stdout",
     "output_type": "stream",
     "text": [
      "Number of duplicate apps:  0\n",
      "\n",
      "\n",
      "Number of unique apps:  7197\n",
      "\n",
      "\n",
      "[]\n",
      "\n",
      "\n",
      "['284882215', '389801252', '529479190', '420009108', '284035177', '429047995', '282935706', '553834731', '324684580', '343200656']\n"
     ]
    }
   ],
   "source": [
    "duplicate_data = []\n",
    "unique_data = []\n",
    "\n",
    "for row in app_data[1:]:\n",
    "    appname = row[0]\n",
    "\n",
    "    if appname in unique_data:\n",
    "        duplicate_data.append(appname)\n",
    "    else:\n",
    "        unique_data.append(appname)\n",
    "\n",
    "print('Number of duplicate apps: ', len(duplicate_data))        \n",
    "print('\\n')\n",
    "print('Number of unique apps: ', len(unique_data))   \n",
    "print('\\n')   \n",
    "print(duplicate_data[:15])\n",
    "print('\\n')\n",
    "print(unique_data[:10])"
   ]
  },
  {
   "cell_type": "markdown",
   "metadata": {},
   "source": [
    "Thus, there are no duplicates in this data set, so we can proceed."
   ]
  },
  {
   "cell_type": "markdown",
   "metadata": {},
   "source": [
    "In our company, we develop apps toward an English-speaking audience.\n",
    "So, we aren't interested in keeping apps, for instance, in japanese or chinese. We will remove them.\n",
    "\n",
    "The numbers corresponding to the characters we commonly use in an English text are all in the range 0 to 127, according to the ASCII (American Standard Code for Information Interchange) system. Based on this number range, we can build a function that detects whether a character belongs to the set of common English characters or not. If the number is equal to or less than 127, then the character belongs to the set of common English characters.\n",
    "\n",
    "However, if we consider only that just one character ascii number is greater than 127, then we could be filtering english apps that have a special character in its name, such as 😜 or ™. Thus, to minimize this impact, we will filter apps with more than 3 character ascii number > 127."
   ]
  },
  {
   "cell_type": "code",
   "execution_count": 17,
   "metadata": {},
   "outputs": [
    {
     "name": "stdout",
     "output_type": "stream",
     "text": [
      "97\n",
      "57\n",
      "80\n"
     ]
    }
   ],
   "source": [
    "print(ord('a'))\n",
    "print(ord('9'))\n",
    "print(ord('P'))"
   ]
  },
  {
   "cell_type": "code",
   "execution_count": 18,
   "metadata": {},
   "outputs": [],
   "source": [
    "def english_only(string):\n",
    "    non_English_counter = 0\n",
    "    for character in string:\n",
    "        ascii_number = ord(character)\n",
    "        if ascii_number > 127:\n",
    "            non_English_counter += 1\n",
    "        if non_English_counter > 3:\n",
    "            return False\n",
    "    return True\n",
    "    "
   ]
  },
  {
   "cell_type": "code",
   "execution_count": 19,
   "metadata": {},
   "outputs": [
    {
     "name": "stdout",
     "output_type": "stream",
     "text": [
      "True\n",
      "False\n",
      "True\n",
      "True\n"
     ]
    }
   ],
   "source": [
    "print(english_only('Instagram'))\n",
    "print(english_only('爱奇艺PPS -《欢乐颂2》电视剧热播'))\n",
    "print(english_only('Docs To Go™ Free Office Suite'))\n",
    "print(english_only('Instachat 😜'))"
   ]
  },
  {
   "cell_type": "code",
   "execution_count": 20,
   "metadata": {},
   "outputs": [
    {
     "name": "stdout",
     "output_type": "stream",
     "text": [
      "Number of English Apps in Apple Store data:  6183\n",
      "Number of Non-English Apps in Apple Store data:  1014\n"
     ]
    }
   ],
   "source": [
    "appdata_english_apps = []\n",
    "appdata_non_english = []\n",
    "for row in app_data[1:]:\n",
    "    appname = str(row[1])\n",
    "    is_english = english_only(appname)\n",
    "    if is_english == True:\n",
    "        appdata_english_apps.append(row)\n",
    "    else:\n",
    "        appdata_non_english.append(row)\n",
    "        \n",
    "print('Number of English Apps in Apple Store data: ', len(appdata_english_apps))\n",
    "print('Number of Non-English Apps in Apple Store data: ', len(appdata_non_english))"
   ]
  },
  {
   "cell_type": "code",
   "execution_count": 21,
   "metadata": {},
   "outputs": [
    {
     "name": "stdout",
     "output_type": "stream",
     "text": [
      "Number of English Apps in Google Play filtered data:  9614\n",
      "Number of Non-English Apps in Google Play filtered data:  45\n"
     ]
    }
   ],
   "source": [
    "googledata_english_apps = []\n",
    "googledata_non_english = []\n",
    "for row in android_clean:\n",
    "    appname = str(row[0])\n",
    "    is_english = english_only(appname)\n",
    "    if is_english == True:\n",
    "        googledata_english_apps.append(row)\n",
    "    else:\n",
    "        googledata_non_english.append(row)\n",
    "\n",
    "print('Number of English Apps in Google Play filtered data: ', len(googledata_english_apps))\n",
    "print('Number of Non-English Apps in Google Play filtered data: ', len(googledata_non_english))"
   ]
  },
  {
   "cell_type": "markdown",
   "metadata": {},
   "source": [
    "Now, to finish our data cleaning step, we'll isolate the free apps from these data sets. "
   ]
  },
  {
   "cell_type": "code",
   "execution_count": 22,
   "metadata": {},
   "outputs": [
    {
     "name": "stdout",
     "output_type": "stream",
     "text": [
      "Number of Free Apps in Google Play filtered data:  8864\n",
      "Number of Non-Free Apps in Google Play filtered data:  750\n"
     ]
    }
   ],
   "source": [
    "googledata_freeapps = []\n",
    "googledata_nonfree = []\n",
    "for row in googledata_english_apps:\n",
    "    price = str(row[7])\n",
    "    if price == '0':\n",
    "        googledata_freeapps.append(row)\n",
    "    else:\n",
    "        googledata_nonfree.append(row)\n",
    "        \n",
    "print('Number of Free Apps in Google Play filtered data: ', len(googledata_freeapps))\n",
    "print('Number of Non-Free Apps in Google Play filtered data: ',len(googledata_nonfree))"
   ]
  },
  {
   "cell_type": "code",
   "execution_count": 23,
   "metadata": {},
   "outputs": [
    {
     "name": "stdout",
     "output_type": "stream",
     "text": [
      "Number of Free Apps in Apple Store filtered data:  3222\n",
      "Number of Non-Free Apps in Apple Store filtered data:  2961\n"
     ]
    }
   ],
   "source": [
    "appdata_freeapps = []\n",
    "appdata_nonfree = []\n",
    "for row in appdata_english_apps:\n",
    "    price = str(row[4])\n",
    "    if price == '0.0':\n",
    "        appdata_freeapps.append(row)\n",
    "    else:\n",
    "        appdata_nonfree.append(row)\n",
    "        \n",
    "print('Number of Free Apps in Apple Store filtered data: ', len(appdata_freeapps))\n",
    "print('Number of Non-Free Apps in Apple Store filtered data: ',len(appdata_nonfree))"
   ]
  },
  {
   "cell_type": "markdown",
   "metadata": {},
   "source": [
    "# Analyzing the filtered data sets\n",
    "So far, we cleaned our data sets in order to remove:\n",
    "- Inaccurate data; \n",
    "- Duplicate app entries;\n",
    "- non-English apps;\n",
    "- non-Free apps.\n",
    "\n",
    "Again, as we mentioned in the introduction, our company build only free apps and our main source of revenue consists of in-app ads.\n",
    "To minimize risks and overhead, our validation strategy for an app idea is comprised of 3 steps:\n",
    "- Build a minimal Android version of the app, and add it to Google Play.\n",
    "- If the app has a good response from users, we develop it further.\n",
    "- If the app is profitable after six months, we build an iOS version of the app and add it to the App Store.\n",
    "\n",
    "Because our end goal is to add the app on both Google Play and the App Store, we need to find app profiles that are successful on both markets. For instance, a profile that works well for both markets might be a productivity app that makes use of gamification.\n",
    "\n",
    "Now, we are going to getting a sense of what are the most common genres for each market. We'll build frequency tables for a fey columns in our data sets."
   ]
  },
  {
   "cell_type": "markdown",
   "metadata": {},
   "source": [
    "**Google Play:** the columns **'Category'** and **'Genres'** seem to represent what the app is about, with the second one \"tokenizing\" some classifications for each apps.\n",
    "\n",
    "**Apple Store:** the column **'prime_genre'** seems to show us what type the app is. \n"
   ]
  },
  {
   "cell_type": "code",
   "execution_count": 24,
   "metadata": {},
   "outputs": [],
   "source": [
    "def freq_table(dataset, index):\n",
    "    frequency_table = {}\n",
    "    total = 0\n",
    "    for row in dataset:\n",
    "        total += 1\n",
    "        genre = str(row[index])\n",
    "        if genre in frequency_table:\n",
    "            frequency_table[genre] += 1\n",
    "        else:\n",
    "            frequency_table[genre] = 1\n",
    "    percentage_table = {}\n",
    "    for key in frequency_table:\n",
    "        key_value = (frequency_table[key]/total)*100\n",
    "        percentage_table[key] = key_value\n",
    "    return percentage_table"
   ]
  },
  {
   "cell_type": "code",
   "execution_count": 25,
   "metadata": {},
   "outputs": [],
   "source": [
    "def display_table(dataset, index):\n",
    "    table = freq_table(dataset, index)\n",
    "    table_display = []\n",
    "    for key in table:\n",
    "        key_val_as_tuple = (table[key], key)\n",
    "        table_display.append(key_val_as_tuple)\n",
    "\n",
    "    table_sorted = sorted(table_display, reverse = True)\n",
    "    for entry in table_sorted:\n",
    "        print(entry[1], ':', entry[0])"
   ]
  },
  {
   "cell_type": "code",
   "execution_count": 26,
   "metadata": {},
   "outputs": [
    {
     "name": "stdout",
     "output_type": "stream",
     "text": [
      "Games : 58.16263190564867\n",
      "Entertainment : 7.883302296710118\n",
      "Photo & Video : 4.9658597144630665\n",
      "Education : 3.662321539416512\n",
      "Social Networking : 3.2898820608317814\n",
      "Shopping : 2.60707635009311\n",
      "Utilities : 2.5139664804469275\n",
      "Sports : 2.1415270018621975\n",
      "Music : 2.0484171322160147\n",
      "Health & Fitness : 2.0173805090006205\n",
      "Productivity : 1.7380509000620732\n",
      "Lifestyle : 1.5828677839851024\n",
      "News : 1.3345747982619491\n",
      "Travel : 1.2414649286157666\n",
      "Finance : 1.1173184357541899\n",
      "Weather : 0.8690254500310366\n",
      "Food & Drink : 0.8069522036002483\n",
      "Reference : 0.5586592178770949\n",
      "Business : 0.5276225946617008\n",
      "Book : 0.4345127250155183\n",
      "Navigation : 0.186219739292365\n",
      "Medical : 0.186219739292365\n",
      "Catalogs : 0.12414649286157665\n"
     ]
    }
   ],
   "source": [
    "prime_genre = display_table(dataset = appdata_freeapps, index = 11)"
   ]
  },
  {
   "cell_type": "markdown",
   "metadata": {},
   "source": [
    "As we can see above, for Apple Store, considering all the filters we applied, the most common genre is by far 'Games' (58.16%), following by Entertainment (7.88%). It is possible to see a huge difference between the 1st and 2nd, being greater than the half of apps of this list. As the general impression, most of the apps are designed more for entertainment (games, photo & video, social networking, sports, music) than practical purposes (education, shopping, utilities, productivity, lifestyle).\n",
    "\n",
    "However, analyzing only this table, we cannot recommend an app profile, since we can't say that a large number of apps for a particular genre also imply that apps of that genre generally have a large number of users (which is our main goal)."
   ]
  },
  {
   "cell_type": "code",
   "execution_count": 27,
   "metadata": {},
   "outputs": [
    {
     "name": "stdout",
     "output_type": "stream",
     "text": [
      "FAMILY : 18.907942238267147\n",
      "GAME : 9.724729241877256\n",
      "TOOLS : 8.461191335740072\n",
      "BUSINESS : 4.591606498194946\n",
      "LIFESTYLE : 3.9034296028880866\n",
      "PRODUCTIVITY : 3.892148014440433\n",
      "FINANCE : 3.7003610108303246\n",
      "MEDICAL : 3.531137184115524\n",
      "SPORTS : 3.395758122743682\n",
      "PERSONALIZATION : 3.3167870036101084\n",
      "COMMUNICATION : 3.2378158844765346\n",
      "HEALTH_AND_FITNESS : 3.0798736462093865\n",
      "PHOTOGRAPHY : 2.944494584837545\n",
      "NEWS_AND_MAGAZINES : 2.7978339350180503\n",
      "SOCIAL : 2.6624548736462095\n",
      "TRAVEL_AND_LOCAL : 2.33528880866426\n",
      "SHOPPING : 2.2450361010830324\n",
      "BOOKS_AND_REFERENCE : 2.1435018050541514\n",
      "DATING : 1.861462093862816\n",
      "VIDEO_PLAYERS : 1.7937725631768955\n",
      "MAPS_AND_NAVIGATION : 1.3989169675090252\n",
      "FOOD_AND_DRINK : 1.2409747292418771\n",
      "EDUCATION : 1.1620036101083033\n",
      "ENTERTAINMENT : 0.9589350180505415\n",
      "LIBRARIES_AND_DEMO : 0.9363718411552346\n",
      "AUTO_AND_VEHICLES : 0.9250902527075812\n",
      "HOUSE_AND_HOME : 0.8235559566787004\n",
      "WEATHER : 0.8009927797833934\n",
      "EVENTS : 0.7107400722021661\n",
      "PARENTING : 0.6543321299638989\n",
      "ART_AND_DESIGN : 0.6430505415162455\n",
      "COMICS : 0.6204873646209386\n",
      "BEAUTY : 0.5979241877256317\n"
     ]
    }
   ],
   "source": [
    "Category = display_table(dataset=googledata_freeapps, index=1)"
   ]
  },
  {
   "cell_type": "markdown",
   "metadata": {},
   "source": [
    "The big picture in Google Play (considering all the filters) seems to be significantly different in comparison to Apple Store. 'Family' is the most common genre with (18.91%), following by 'Game' (9.72%) and 'Tools' (8.46%). Unlikely Google Play, in Apple Store we don't see the categories 'Family' and 'Tools', which are probably splited in other subsets. The same way, we don't see 'Enterteinment' in Google Play categories and it's the 2nd most common genre in Apple Store.\n",
    "\n",
    "In contrast to Apple Store, Google Play seems to have more apps for practical purposes (Family, Tools, Business, Productivity, Finance). However, using only this data, we cannot confirm that only because the category describes 'Family', for instance, that's not about other things too. \n",
    "The data here seems to be a bit more distributed between the categories. We don't see here a single category with a huge percentage."
   ]
  },
  {
   "cell_type": "code",
   "execution_count": 28,
   "metadata": {},
   "outputs": [
    {
     "name": "stdout",
     "output_type": "stream",
     "text": [
      "Tools : 8.449909747292418\n",
      "Entertainment : 6.069494584837545\n",
      "Education : 5.347472924187725\n",
      "Business : 4.591606498194946\n",
      "Productivity : 3.892148014440433\n",
      "Lifestyle : 3.892148014440433\n",
      "Finance : 3.7003610108303246\n",
      "Medical : 3.531137184115524\n",
      "Sports : 3.463447653429603\n",
      "Personalization : 3.3167870036101084\n",
      "Communication : 3.2378158844765346\n",
      "Action : 3.1024368231046933\n",
      "Health & Fitness : 3.0798736462093865\n",
      "Photography : 2.944494584837545\n",
      "News & Magazines : 2.7978339350180503\n",
      "Social : 2.6624548736462095\n",
      "Travel & Local : 2.3240072202166067\n",
      "Shopping : 2.2450361010830324\n",
      "Books & Reference : 2.1435018050541514\n",
      "Simulation : 2.0419675090252705\n",
      "Dating : 1.861462093862816\n",
      "Arcade : 1.8501805054151623\n",
      "Video Players & Editors : 1.7712093862815883\n",
      "Casual : 1.7599277978339352\n",
      "Maps & Navigation : 1.3989169675090252\n",
      "Food & Drink : 1.2409747292418771\n",
      "Puzzle : 1.128158844765343\n",
      "Racing : 0.9927797833935018\n",
      "Role Playing : 0.9363718411552346\n",
      "Libraries & Demo : 0.9363718411552346\n",
      "Auto & Vehicles : 0.9250902527075812\n",
      "Strategy : 0.9138086642599278\n",
      "House & Home : 0.8235559566787004\n",
      "Weather : 0.8009927797833934\n",
      "Events : 0.7107400722021661\n",
      "Adventure : 0.6768953068592057\n",
      "Comics : 0.6092057761732852\n",
      "Beauty : 0.5979241877256317\n",
      "Art & Design : 0.5979241877256317\n",
      "Parenting : 0.4963898916967509\n",
      "Card : 0.45126353790613716\n",
      "Casino : 0.42870036101083037\n",
      "Trivia : 0.41741877256317694\n",
      "Educational;Education : 0.39485559566787\n",
      "Board : 0.3835740072202166\n",
      "Educational : 0.3722924187725632\n",
      "Education;Education : 0.33844765342960287\n",
      "Word : 0.2594765342960289\n",
      "Casual;Pretend Play : 0.236913357400722\n",
      "Music : 0.2030685920577617\n",
      "Racing;Action & Adventure : 0.16922382671480143\n",
      "Puzzle;Brain Games : 0.16922382671480143\n",
      "Entertainment;Music & Video : 0.16922382671480143\n",
      "Casual;Brain Games : 0.13537906137184114\n",
      "Casual;Action & Adventure : 0.13537906137184114\n",
      "Arcade;Action & Adventure : 0.12409747292418773\n",
      "Action;Action & Adventure : 0.10153429602888085\n",
      "Educational;Pretend Play : 0.09025270758122744\n",
      "Simulation;Action & Adventure : 0.078971119133574\n",
      "Parenting;Education : 0.078971119133574\n",
      "Entertainment;Brain Games : 0.078971119133574\n",
      "Board;Brain Games : 0.078971119133574\n",
      "Parenting;Music & Video : 0.06768953068592057\n",
      "Educational;Brain Games : 0.06768953068592057\n",
      "Casual;Creativity : 0.06768953068592057\n",
      "Art & Design;Creativity : 0.06768953068592057\n",
      "Education;Pretend Play : 0.056407942238267145\n",
      "Role Playing;Pretend Play : 0.04512635379061372\n",
      "Education;Creativity : 0.04512635379061372\n",
      "Role Playing;Action & Adventure : 0.033844765342960284\n",
      "Puzzle;Action & Adventure : 0.033844765342960284\n",
      "Entertainment;Creativity : 0.033844765342960284\n",
      "Entertainment;Action & Adventure : 0.033844765342960284\n",
      "Educational;Creativity : 0.033844765342960284\n",
      "Educational;Action & Adventure : 0.033844765342960284\n",
      "Education;Music & Video : 0.033844765342960284\n",
      "Education;Brain Games : 0.033844765342960284\n",
      "Education;Action & Adventure : 0.033844765342960284\n",
      "Adventure;Action & Adventure : 0.033844765342960284\n",
      "Video Players & Editors;Music & Video : 0.02256317689530686\n",
      "Sports;Action & Adventure : 0.02256317689530686\n",
      "Simulation;Pretend Play : 0.02256317689530686\n",
      "Puzzle;Creativity : 0.02256317689530686\n",
      "Music;Music & Video : 0.02256317689530686\n",
      "Entertainment;Pretend Play : 0.02256317689530686\n",
      "Casual;Education : 0.02256317689530686\n",
      "Board;Action & Adventure : 0.02256317689530686\n",
      "Video Players & Editors;Creativity : 0.01128158844765343\n",
      "Trivia;Education : 0.01128158844765343\n",
      "Travel & Local;Action & Adventure : 0.01128158844765343\n",
      "Tools;Education : 0.01128158844765343\n",
      "Strategy;Education : 0.01128158844765343\n",
      "Strategy;Creativity : 0.01128158844765343\n",
      "Strategy;Action & Adventure : 0.01128158844765343\n",
      "Simulation;Education : 0.01128158844765343\n",
      "Role Playing;Brain Games : 0.01128158844765343\n",
      "Racing;Pretend Play : 0.01128158844765343\n",
      "Puzzle;Education : 0.01128158844765343\n",
      "Parenting;Brain Games : 0.01128158844765343\n",
      "Music & Audio;Music & Video : 0.01128158844765343\n",
      "Lifestyle;Pretend Play : 0.01128158844765343\n",
      "Lifestyle;Education : 0.01128158844765343\n",
      "Health & Fitness;Education : 0.01128158844765343\n",
      "Health & Fitness;Action & Adventure : 0.01128158844765343\n",
      "Entertainment;Education : 0.01128158844765343\n",
      "Communication;Creativity : 0.01128158844765343\n",
      "Comics;Creativity : 0.01128158844765343\n",
      "Casual;Music & Video : 0.01128158844765343\n",
      "Card;Action & Adventure : 0.01128158844765343\n",
      "Books & Reference;Education : 0.01128158844765343\n",
      "Art & Design;Pretend Play : 0.01128158844765343\n",
      "Art & Design;Action & Adventure : 0.01128158844765343\n",
      "Arcade;Pretend Play : 0.01128158844765343\n",
      "Adventure;Education : 0.01128158844765343\n"
     ]
    }
   ],
   "source": [
    "Genres = display_table(dataset=googledata_freeapps, index=9)"
   ]
  },
  {
   "cell_type": "markdown",
   "metadata": {},
   "source": [
    "This data shows us a different approach: for each app, it can has more than one genre, which means that our categories here are splited in these genres. So the data here is more granular than in 'Category'.\n",
    "\n",
    "So far, we can observe that Apple Store is more concentrated in enterteinment apps, while Google Play is more balanced between practical and fun apps. However, anyway these frequency tables don't reveal what genres have the most users, they only show us the frequency of app genres."
   ]
  },
  {
   "cell_type": "code",
   "execution_count": 29,
   "metadata": {},
   "outputs": [
    {
     "name": "stdout",
     "output_type": "stream",
     "text": [
      "Social Networking = 71548.34905660378\n",
      "Photo & Video = 28441.54375\n",
      "Games = 22788.6696905016\n",
      "Music = 57326.530303030304\n",
      "Reference = 74942.11111111111\n",
      "Health & Fitness = 23298.015384615384\n",
      "Weather = 52279.892857142855\n",
      "Utilities = 18684.456790123455\n",
      "Travel = 28243.8\n",
      "Shopping = 26919.690476190477\n",
      "News = 21248.023255813954\n",
      "Navigation = 86090.33333333333\n",
      "Lifestyle = 16485.764705882353\n",
      "Entertainment = 14029.830708661417\n",
      "Food & Drink = 33333.92307692308\n",
      "Sports = 23008.898550724636\n",
      "Book = 39758.5\n",
      "Finance = 31467.944444444445\n",
      "Education = 7003.983050847458\n",
      "Productivity = 21028.410714285714\n",
      "Business = 7491.117647058823\n",
      "Catalogs = 4004.0\n",
      "Medical = 612.0\n"
     ]
    }
   ],
   "source": [
    "unique_genres = freq_table(appdata_freeapps, 11)\n",
    "\n",
    "for genre in unique_genres:\n",
    "    total = 0\n",
    "    len_genre = 0\n",
    "    for row in appdata_freeapps:\n",
    "        genre_app = row[11]\n",
    "        if genre_app == genre:\n",
    "            nmb_user_rat = float(row[5])\n",
    "            total += nmb_user_rat\n",
    "            len_genre += 1\n",
    "    avg_nmb_user_rat = total/len_genre\n",
    "    print(str(genre) + ' = ' + str(avg_nmb_user_rat))\n",
    "        "
   ]
  },
  {
   "cell_type": "markdown",
   "metadata": {},
   "source": [
    "In order to see what genres have the most users, we can find this information in the 'Installs' column, but this information is missing for the App Store data set. Then, we'll take the total number of user ratings as a proxy in 'rating_count_column'.\n",
    "\n",
    "If we blindly pick up the app with the higher average number of user rating, we would choose Navigation (avg = 86,090) as the most recommended genre. However, as we can see in the previous data, Navigation is one of the last places in frequency of app genres (0.19%).\n"
   ]
  },
  {
   "cell_type": "code",
   "execution_count": 30,
   "metadata": {},
   "outputs": [
    {
     "name": "stdout",
     "output_type": "stream",
     "text": [
      "Waze - GPS Navigation, Maps & Real-time Traffic = 345046\n",
      "Google Maps - Navigation & Transit = 154911\n",
      "Geocaching® = 12811\n",
      "CoPilot GPS – Car Navigation & Offline Maps = 3582\n",
      "ImmobilienScout24: Real Estate Search in Germany = 187\n",
      "Railway Route Search = 5\n"
     ]
    }
   ],
   "source": [
    "for row in appdata_freeapps:\n",
    "    appgenre = row[11]\n",
    "    if appgenre == 'Navigation':\n",
    "        print(str(row[1]) + ' = ' + str(row[5]))"
   ]
  },
  {
   "cell_type": "markdown",
   "metadata": {},
   "source": [
    "As we can see above, the high average of this genre is heavily influenced by Waze (345046); Google Maps (154911) and the small number in denominator in average calculation: only 6 apps.\n",
    "\n",
    "The same pattern we can see below for Social Networking apps (71,548): "
   ]
  },
  {
   "cell_type": "code",
   "execution_count": 31,
   "metadata": {},
   "outputs": [
    {
     "name": "stdout",
     "output_type": "stream",
     "text": [
      "Facebook = 2974676\n",
      "Pinterest = 1061624\n",
      "Skype for iPhone = 373519\n",
      "Messenger = 351466\n",
      "Tumblr = 334293\n",
      "WhatsApp Messenger = 287589\n",
      "Kik = 260965\n",
      "ooVoo – Free Video Call, Text and Voice = 177501\n",
      "TextNow - Unlimited Text + Calls = 164963\n",
      "Viber Messenger – Text & Call = 164249\n",
      "Followers - Social Analytics For Instagram = 112778\n",
      "MeetMe - Chat and Meet New People = 97072\n",
      "We Heart It - Fashion, wallpapers, quotes, tattoos = 90414\n",
      "InsTrack for Instagram - Analytics Plus More = 85535\n",
      "Tango - Free Video Call, Voice and Chat = 75412\n",
      "LinkedIn = 71856\n",
      "Match™ - #1 Dating App. = 60659\n",
      "Skype for iPad = 60163\n",
      "POF - Best Dating App for Conversations = 52642\n",
      "Timehop = 49510\n",
      "Find My Family, Friends & iPhone - Life360 Locator = 43877\n",
      "Whisper - Share, Express, Meet = 39819\n",
      "Hangouts = 36404\n",
      "LINE PLAY - Your Avatar World = 34677\n",
      "WeChat = 34584\n",
      "Badoo - Meet New People, Chat, Socialize. = 34428\n",
      "Followers + for Instagram - Follower Analytics = 28633\n",
      "GroupMe = 28260\n",
      "Marco Polo Video Walkie Talkie = 27662\n",
      "Miitomo = 23965\n",
      "SimSimi = 23530\n",
      "Grindr - Gay and same sex guys chat, meet and date = 23201\n",
      "Wishbone - Compare Anything = 20649\n",
      "imo video calls and chat = 18841\n",
      "After School - Funny Anonymous School News = 18482\n",
      "Quick Reposter - Repost, Regram and Reshare Photos = 17694\n",
      "Weibo HD = 16772\n",
      "Repost for Instagram = 15185\n",
      "Live.me – Live Video Chat & Make Friends Nearby = 14724\n",
      "Nextdoor = 14402\n",
      "Followers Analytics for Instagram - InstaReport = 13914\n",
      "YouNow: Live Stream Video Chat = 12079\n",
      "FollowMeter for Instagram - Followers Tracking = 11976\n",
      "LINE = 11437\n",
      "eHarmony™ Dating App - Meet Singles = 11124\n",
      "Discord - Chat for Gamers = 9152\n",
      "QQ = 9109\n",
      "Telegram Messenger = 7573\n",
      "Weibo = 7265\n",
      "Periscope - Live Video Streaming Around the World = 6062\n",
      "Chat for Whatsapp - iPad Version = 5060\n",
      "QQ HD = 5058\n",
      "Followers Analysis Tool For Instagram App Free = 4253\n",
      "live.ly - live video streaming = 4145\n",
      "Houseparty - Group Video Chat = 3991\n",
      "SOMA Messenger = 3232\n",
      "Monkey = 3060\n",
      "Down To Lunch = 2535\n",
      "Flinch - Video Chat Staring Contest = 2134\n",
      "Highrise - Your Avatar Community = 2011\n",
      "LOVOO - Dating Chat = 1985\n",
      "PlayStation®Messages = 1918\n",
      "BOO! - Video chat camera with filters & stickers = 1805\n",
      "Qzone = 1649\n",
      "Chatous - Chat with new people = 1609\n",
      "Kiwi - Q&A = 1538\n",
      "GhostCodes - a discovery app for Snapchat = 1313\n",
      "Jodel = 1193\n",
      "FireChat = 1037\n",
      "Google Duo - simple video calling = 1033\n",
      "Fiesta by Tango - Chat & Meet New People = 885\n",
      "Google Allo — smart messaging = 862\n",
      "Peach — share vividly = 727\n",
      "Hey! VINA - Where Women Meet New Friends = 719\n",
      "Battlefield™ Companion = 689\n",
      "All Devices for WhatsApp - Messenger for iPad = 682\n",
      "Chat for Pokemon Go - GoChat = 500\n",
      "IAmNaughty – Dating App to Meet New People Online = 463\n",
      "Qzone HD = 458\n",
      "Zenly - Locate your friends in realtime = 427\n",
      "League of Legends Friends = 420\n",
      "豆瓣 = 407\n",
      "Candid - Speak Your Mind Freely = 398\n",
      "知乎 = 397\n",
      "Selfeo = 366\n",
      "Fake-A-Location Free ™ = 354\n",
      "Popcorn Buzz - Free Group Calls = 281\n",
      "Fam — Group video calling for iMessage = 279\n",
      "QQ International = 274\n",
      "Ameba = 269\n",
      "SoundCloud Pulse: for creators = 240\n",
      "Tantan = 235\n",
      "Cougar Dating & Life Style App for Mature Women = 213\n",
      "Rawr Messenger - Dab your chat = 180\n",
      "WhenToPost: Best Time to Post Photos for Instagram = 158\n",
      "Inke—Broadcast an amazing life = 147\n",
      "Mustknow - anonymous video Q&A = 53\n",
      "CTFxCmoji = 39\n",
      "Lobi = 36\n",
      "Chain: Collaborate On MyVideo Story/Group Video = 35\n",
      "botman - Real time video chat = 7\n",
      "BestieBox = 0\n",
      "MATCH ON LINE chat = 0\n",
      "niconico ch = 0\n",
      "LINE BLOG = 0\n",
      "bit-tube - Live Stream Video Chat = 0\n"
     ]
    }
   ],
   "source": [
    "for row in appdata_freeapps:\n",
    "    appgenre = row[11]\n",
    "    if appgenre == 'Social Networking':\n",
    "        print(str(row[1]) + ' = ' + str(row[5]))"
   ]
  },
  {
   "cell_type": "markdown",
   "metadata": {},
   "source": [
    "However in this case, we have a lot of apps, but the seven firsts dominates the statistic: Facebook, Pinterest, Skype for iPhone, Messenger, Tumblr, WhatsApp and Kik. Furthermore, Social Networking is a very red ocean to join in; very expensive to keep updating and hard to constantly inovating.\n",
    "\n",
    "The same happens to Music (57,26), apps like Spotify, Shazam and Pandora also incorporates the high average for this genre.\n",
    "\n",
    "Our goal is to find popular apps, but it seems that Music, Social Networking and Navigation are genres very hard to compete. The high average number of some genres seems to be heavily influenced by few apps with hundreds of thousands user ratings."
   ]
  },
  {
   "cell_type": "code",
   "execution_count": 32,
   "metadata": {},
   "outputs": [
    {
     "name": "stdout",
     "output_type": "stream",
     "text": [
      "Bible = 985920\n",
      "Dictionary.com Dictionary & Thesaurus = 200047\n",
      "Dictionary.com Dictionary & Thesaurus for iPad = 54175\n",
      "Google Translate = 26786\n",
      "Muslim Pro: Ramadan 2017 Prayer Times, Azan, Quran = 18418\n",
      "New Furniture Mods - Pocket Wiki & Game Tools for Minecraft PC Edition = 17588\n",
      "Merriam-Webster Dictionary = 16849\n",
      "Night Sky = 12122\n",
      "City Maps for Minecraft PE - The Best Maps for Minecraft Pocket Edition (MCPE) = 8535\n",
      "LUCKY BLOCK MOD ™ for Minecraft PC Edition - The Best Pocket Wiki & Mods Installer Tools = 4693\n",
      "GUNS MODS for Minecraft PC Edition - Mods Tools = 1497\n",
      "Guides for Pokémon GO - Pokemon GO News and Cheats = 826\n",
      "WWDC = 762\n",
      "Horror Maps for Minecraft PE - Download The Scariest Maps for Minecraft Pocket Edition (MCPE) Free = 718\n",
      "VPN Express = 14\n",
      "Real Bike Traffic Rider Virtual Reality Glasses = 8\n",
      "教えて!goo = 0\n",
      "Jishokun-Japanese English Dictionary & Translator = 0\n"
     ]
    }
   ],
   "source": [
    "for row in appdata_freeapps:\n",
    "    appgenre = row[11]\n",
    "    if appgenre == 'Reference':\n",
    "        print(str(row[1]) + ' = ' + str(row[5]))"
   ]
  },
  {
   "cell_type": "markdown",
   "metadata": {},
   "source": [
    "The average of Reference genre (74,942) above is also influenced by few apps (Bible and Dictionary). Even though, it can be a potential genre to be explored, since we could add some other popular book and turn it into an app, where we could add different features besides the raw version of the book. This idea seems to fit well with the fact that the App Store is dominated by for-fun apps. This suggests the market might be a bit saturated with for-fun apps, which means a practical app might have more of a chance to stand out among the huge number of apps on the App Store.\n",
    "\n",
    "Other genres that seem popular include weather, book, food and drink, or finance. The book genre seem to overlap a bit with the app idea we described above, but the other genres don't seem too interesting to us:\n",
    "\n",
    "- Weather apps: people generally don't spend too much time in-app, and the chances of making profit from in-app adds are low. Also, getting reliable live weather data may require us to connect our apps to non-free APIs.\n",
    "\n",
    "- Food and drink: examples here include Starbucks, Dunkin' Donuts, McDonald's, etc. So making a popular food and drink app requires actual cooking and a delivery service, which is outside the scope of our company.\n",
    "\n",
    "- Finance apps: these apps involve banking, paying bills, money transfer, etc. Building a finance app requires domain knowledge, and we don't want to hire a finance expert just to build an app.\n",
    "\n",
    "Now let's analyze the Google Play market a bit."
   ]
  },
  {
   "cell_type": "code",
   "execution_count": 33,
   "metadata": {},
   "outputs": [
    {
     "name": "stdout",
     "output_type": "stream",
     "text": [
      "ART_AND_DESIGN: 1986335.0877192982\n",
      "AUTO_AND_VEHICLES: 647317.8170731707\n",
      "BEAUTY: 513151.88679245283\n",
      "BOOKS_AND_REFERENCE: 8767811.894736841\n",
      "BUSINESS: 1712290.1474201474\n",
      "COMICS: 817657.2727272727\n",
      "COMMUNICATION: 38456119.167247385\n",
      "DATING: 854028.8303030303\n",
      "EDUCATION: 1833495.145631068\n",
      "ENTERTAINMENT: 11640705.88235294\n",
      "EVENTS: 253542.22222222222\n",
      "FINANCE: 1387692.475609756\n",
      "FOOD_AND_DRINK: 1924897.7363636363\n",
      "HEALTH_AND_FITNESS: 4188821.9853479853\n",
      "HOUSE_AND_HOME: 1331540.5616438356\n",
      "LIBRARIES_AND_DEMO: 638503.734939759\n",
      "LIFESTYLE: 1437816.2687861272\n",
      "GAME: 15588015.603248259\n",
      "FAMILY: 3695641.8198090694\n",
      "MEDICAL: 120550.61980830671\n",
      "SOCIAL: 23253652.127118643\n",
      "SHOPPING: 7036877.311557789\n",
      "PHOTOGRAPHY: 17840110.40229885\n",
      "SPORTS: 3638640.1428571427\n",
      "TRAVEL_AND_LOCAL: 13984077.710144928\n",
      "TOOLS: 10801391.298666667\n",
      "PERSONALIZATION: 5201482.6122448975\n",
      "PRODUCTIVITY: 16787331.344927534\n",
      "PARENTING: 542603.6206896552\n",
      "WEATHER: 5074486.197183099\n",
      "VIDEO_PLAYERS: 24727872.452830188\n",
      "NEWS_AND_MAGAZINES: 9549178.467741935\n",
      "MAPS_AND_NAVIGATION: 4056941.7741935486\n"
     ]
    }
   ],
   "source": [
    "googleplay_category = freq_table(googledata_freeapps, 1)\n",
    "for category in googleplay_category:\n",
    "    total = 0\n",
    "    len_category = 0\n",
    "    for row in googledata_freeapps:\n",
    "        category_app = row[1]\n",
    "        if category_app == category:\n",
    "            installs = row[5]\n",
    "            installs = installs.replace('+', '')\n",
    "            installs = installs.replace(',', '')\n",
    "            installs = float(installs)\n",
    "            total += installs\n",
    "            len_category += 1\n",
    "    avg_nmb_installs = total/len_category\n",
    "    print(category + ': ' + str(avg_nmb_installs))"
   ]
  },
  {
   "cell_type": "markdown",
   "metadata": {},
   "source": [
    "On average, communication apps have the most installs: 38,456,119. This number is heavily skewed up by a few apps that have over one billion installs (WhatsApp, Facebook Messenger, Skype, Google Chrome, Gmail, and Hangouts), and a few others with over 100 and 500 million installs:\n",
    "\n",
    "Again, if we blindly pick up a genre only for its number os installs, we would have the same problem as Apple Store:"
   ]
  },
  {
   "cell_type": "code",
   "execution_count": 34,
   "metadata": {},
   "outputs": [
    {
     "name": "stdout",
     "output_type": "stream",
     "text": [
      "Facebook: 1,000,000,000+\n",
      "Facebook Lite: 500,000,000+\n",
      "Tumblr: 100,000,000+\n",
      "Social network all in one 2018: 100,000+\n",
      "Pinterest: 100,000,000+\n",
      "TextNow - free text + calls: 10,000,000+\n",
      "Google+: 1,000,000,000+\n",
      "The Messenger App: 1,000,000+\n",
      "Messenger Pro: 1,000,000+\n",
      "Free Messages, Video, Chat,Text for Messenger Plus: 1,000,000+\n",
      "Telegram X: 5,000,000+\n",
      "The Video Messenger App: 100,000+\n",
      "Jodel - The Hyperlocal App: 1,000,000+\n",
      "Hide Something - Photo, Video: 5,000,000+\n",
      "Love Sticker: 1,000,000+\n",
      "Web Browser & Fast Explorer: 5,000,000+\n",
      "LiveMe - Video chat, new friends, and make money: 10,000,000+\n",
      "VidStatus app - Status Videos & Status Downloader: 5,000,000+\n",
      "Love Images: 1,000,000+\n",
      "Web Browser ( Fast & Secure Web Explorer): 500,000+\n",
      "SPARK - Live random video chat & meet new people: 5,000,000+\n",
      "Golden telegram: 50,000+\n",
      "Facebook Local: 1,000,000+\n",
      "Meet – Talk to Strangers Using Random Video Chat: 5,000,000+\n",
      "MobilePatrol Public Safety App: 1,000,000+\n",
      "💘 WhatsLov: Smileys of love, stickers and GIF: 1,000,000+\n",
      "HTC Social Plugin - Facebook: 10,000,000+\n",
      "Quora: 10,000,000+\n",
      "Kate Mobile for VK: 10,000,000+\n",
      "Family GPS tracker KidControl + GPS by SMS Locator: 1,000,000+\n",
      "Moment: 1,000,000+\n",
      "Text Me: Text Free, Call Free, Second Phone Number: 10,000,000+\n",
      "Text Free: WiFi Calling App: 5,000,000+\n",
      "Badoo - Free Chat & Dating App: 100,000,000+\n",
      "Text free - Free Text + Call: 10,000,000+\n",
      "Tango - Live Video Broadcast: 100,000,000+\n",
      "ooVoo Video Calls, Messaging & Stories: 50,000,000+\n",
      "Whisper: 5,000,000+\n",
      "Blogger: 5,000,000+\n",
      "Bloglovin': 500,000+\n",
      "Blogaway for Android (Blogger): 100,000+\n",
      "Instagram: 1,000,000,000+\n",
      "TwitCasting Live: 1,000,000+\n",
      "Stream - Live Video Community: 500,000+\n",
      "YouNow: Live Stream Video Chat: 10,000,000+\n",
      "Mirrativ: Live Stream Any App: 500,000+\n",
      "Snapchat: 500,000,000+\n",
      "Banjo: 1,000,000+\n",
      "We Heart It: 10,000,000+\n",
      "MeetMe: Chat & Meet New People: 50,000,000+\n",
      "Timehop: 5,000,000+\n",
      "Frontback - Social Photos: 1,000,000+\n",
      "LinkedIn: 100,000,000+\n",
      "Path: 10,000,000+\n",
      "SayHi Chat, Meet New People: 10,000,000+\n",
      "Tapatalk - 100,000+ Forums: 10,000,000+\n",
      "Couple - Relationship App: 1,000,000+\n",
      "Nextdoor - Local neighborhood news & classifieds: 5,000,000+\n",
      "LOVOO: 10,000,000+\n",
      "Jaumo Dating, Flirt & Live Video: 10,000,000+\n",
      "Patook - make platonic friends: 100,000+\n",
      "Zello PTT Walkie Talkie: 50,000,000+\n",
      "textPlus: Free Text & Calls: 10,000,000+\n",
      "magicApp Calling & Messaging: 10,000,000+\n",
      "Dating App, Flirt & Chat : W-Match: 10,000,000+\n",
      "uCiC- Videos and Photos on demand: 100,000+\n",
      "Meetup: 5,000,000+\n",
      "POF Free Dating App: 50,000,000+\n",
      "Tagged - Meet, Chat & Dating: 10,000,000+\n",
      "SKOUT - Meet, Chat, Go Live: 50,000,000+\n",
      "Mico- Stranger Chat Random video Chat, Live, Meet: 10,000,000+\n",
      "Waplog - Free Chat, Dating App, Meet Singles: 10,000,000+\n",
      "Tik Tok - including musical.ly: 100,000,000+\n",
      "B-Messenger Video Chat: 1,000,000+\n",
      "BIGO LIVE - Live Stream: 100,000,000+\n",
      "Greeting Cards & Wishes: 500,000+\n",
      "Share G - Images Sharing - Wallpapers App: 10,000+\n",
      "H letter images: 1,000+\n",
      "Instachat 😜: 5,000,000+\n",
      "Fame Boom for Real Followers, Likes: 5,000,000+\n",
      "FollowMeter for Instagram: 1,000,000+\n",
      "Mali J: 10,000+\n",
      "KDRAMA Amino for K-Drama Fans: 100,000+\n",
      "KPOP Amino for K-Pop Entertainment: 100,000+\n",
      "EXO-L Amino for EXO Fans: 50,000+\n",
      "Verdad o Reto: 500,000+\n",
      "pixiv: 1,000,000+\n",
      "Join R, Community Engagement: 1,000+\n",
      "U LIVE – Video Chat & Stream: 1,000,000+\n",
      "See U - Random video chat, video chat: 100,000+\n",
      "What U See: 100,000+\n",
      "U-Report: 10,000+\n",
      "Meet U - Get Friends for Snapchat, Kik & Instagram: 100,000+\n",
      "VMate Lite - Funny Short Videos Social Network: 1,000,000+\n",
      "V Bucks ProTips New: 1,000+\n",
      "i-share AF/KLM (AFKL ishare): 100+\n",
      "Eternal Light AG: 100+\n",
      "Message AI - Write Better Messages (Free): 100+\n",
      "Jamaa Amino for Animal Jam: 10,000+\n",
      "Legend - Animate Text in Video: 10,000,000+\n",
      "GUYZ - Gay Chat & Gay Dating: 1,000,000+\n",
      "eChallan Andhra Pradesh (AP): 1,000+\n",
      "Snaappy – 3D fun AR core communication platform: 1,000,000+\n",
      "Undertale AU Amino: 50,000+\n",
      "Au Pair: 10,000+\n",
      "Media Sosial TNI AU: 1,000+\n",
      "BA 3 Banjarmasin: 10+\n",
      "iCard BD Plus: 500+\n",
      "Movement BE: 100+\n",
      "YAY - TBH: 100,000+\n",
      "Find My Friends: 10,000,000+\n",
      "BG LINKED (BGLINKED): 1,000+\n",
      "Zdravei.BG: 1,000+\n",
      "BGKontakti London BG Kontakti: 500+\n",
      "BGKontakti Bayern BG Kontakti: 1,000+\n",
      "BGKontakti Vienna BG Kontakti: 1,000+\n",
      "Discípulos em BH: 100+\n",
      "BH Connect: 1+\n",
      "Gayvox - Gay Lesbian Bi Dating: 500,000+\n",
      "Grindr - Gay chat: 10,000,000+\n",
      "Lesbian Chat & Dating - SPICY: 1,000,000+\n",
      "Alumni BJ: 100+\n",
      "VK: 100,000,000+\n",
      "BK Traffic Control cum Chart: 10,000+\n",
      "Daily Murli Saar Widget: 10,000+\n",
      "Myjob@BM: 100+\n",
      "bm-Events: 10+\n",
      "BOO! - Next Generation Messenger: 1,000,000+\n",
      "Wishbone - Compare Anything: 1,000,000+\n",
      "BR Chat Bot: 1,000+\n",
      "Br Browser: 500+\n",
      "Dr B R Ambedkar (Jai Bhim): 100,000+\n",
      "Dr. B.R.Ambedkar: 100,000+\n",
      "Black Social: 1,000+\n",
      "BT Communicator: 10,000+\n",
      "BT Dating -Find your match, help cupid, be social: 50,000+\n",
      "Fiesta by Tango - Find, Meet and Make New Friends: 1,000,000+\n",
      "Evasion.bz: 100+\n",
      "CB Heroes: 5+\n",
      "CG Districts: 1,000+\n",
      "Digi-TV.ch: 10,000+\n",
      "Students.ch: 1,000+\n",
      "CJ Gospel Hour: 100+\n",
      "Pekalongan CJ: 0+\n",
      "Hashtags For Likes.co: 50,000+\n",
      "CP Dialer: 50,000+\n",
      "C.P. CERVANTES (TOBARRA): 5+\n",
      "Cyprus Police: 10,000+\n",
      "Rande.cz: 50,000+\n",
      "signály.cz: 1,000+\n",
      "DB Event App: 5,000+\n",
      "DC Comics Amino: 1,000+\n",
      "DF BugMeNot: 500+\n",
      "Noticias DF: 1,000+\n",
      "Periscope - Live Video: 10,000,000+\n",
      "Daddyhunt: Gay Dating: 500,000+\n",
      "Free phone calls, free texting SMS on free number: 10,000,000+\n",
      "Phone Tracker : Family Locator: 10,000,000+\n",
      "HOLLA Live: Meet New People via Random Video Chat: 5,000,000+\n",
      "Dating.dk: 100,000+\n",
      "DK Murali: 500+\n",
      "GirlTalk.dk: 100+\n",
      "+Download 4 Instagram Twitter: 1,000,000+\n",
      "DM Me - Chat: 10,000+\n",
      "DM for IG 😘 - Image & Video Saver for Instagram: 5,000+\n",
      "Auto DM for Twitter 🔥: 1,000+\n",
      "DM Storage (for twitter): 100+\n",
      "Fake Chat (Direct Message): 500,000+\n",
      "Otto DM: 10+\n",
      "DN Blog: 10+\n",
      "DP and Status for WhatsApp 2018: 100,000+\n",
      "Dp For Whatsapp: 5,000+\n",
      "Profile Pictures and DP for Whatsapp: 5,000+\n",
      "Dp for Facebook: 5,000+\n",
      "Best DP and Status: 10,000+\n",
      "Instant DP Downloader for Instagram: 5,000+\n",
      "DP Display Pictures Life Quotes Motivational GM: 5,000+\n",
      "Qeek for Instagram - Zoom profile insta DP: 500,000+\n",
      "DV Statistics: 100+\n",
      "DW Streaming: 1,000+\n",
      "News Dz: 10+\n",
      "quran-DZ: 10+\n",
      "TN e Sevai TN EB Bill Patta Citta EC Birth All Hub: 5,000+\n",
      "TNEB Bill Online Payment (Tamil): 5,000+\n",
      "UP EB Bill Payment & Details: 50+\n",
      "TN EC Online New: 1,000+\n",
      "TN Patta /Chitta /EC New: 100+\n",
      "EG Way Life: 50+\n",
      "Equestria Amino for MLP: 50,000+\n",
      "Ek Maratha: 10,000+\n",
      "Hum Ek Hain 2.02: 10+\n",
      "Sabka Malik Ek Sai: 1,000+\n",
      "EO RAIPUR: 10+\n",
      "Anime et Manga Amino en Français: 50,000+\n",
      "Hornet - Gay Social Network: 5,000,000+\n",
      "Amino: Communities and Chats: 10,000,000+\n",
      "European Solidarity Corps: 1,000+\n",
      "Reisedealz.eu: 10+\n",
      "Eddsworld Amino: 10,000+\n",
      "Rejoin Your Ex: 100+\n",
      "Amleen Ey: 1+\n",
      "Coupe Adhémar EY 2017: 50+\n",
      "EZ Video Download for Facebook: 1,000,000+\n",
      "Messages, Text and Video Chat for Messenger: 10,000,000+\n",
      "All Social Networks: 1,000,000+\n",
      "Messenger Messenger: 10,000,000+\n",
      "Facebook Creator: 1,000,000+\n",
      "Swift for Facebook Lite: 500,000+\n",
      "Friendly for Facebook: 1,000,000+\n",
      "Faster for Facebook Lite: 1,000,000+\n",
      "Puffin for Facebook: 500,000+\n",
      "Profile Tracker - Who Viewed My Facebook Profile: 500,000+\n",
      "Pink Color for Facebook: 500,000+\n",
      "Messenger: 10,000,000+\n",
      "Stickers for Imo, fb, whatsapp: 10,000+\n",
      "Who Viewed My Facebook Profile - Stalkers Visitors: 5,000,000+\n",
      "Downloader plus for FB: 500+\n",
      "MB Notifications for FB (Free): 100,000+\n",
      "Phoenix - Facebook & Messenger: 100,000+\n",
      "Faster Social for Facebook: 100,000+\n",
      "Check Your Visitors on FB ?: 5,000+\n",
      "Stickers for Facebook: 1,000,000+\n",
      "Lite Messenger for Facebook Lite: 10,000+\n",
      "Mini for Facebook lite: 10,000+\n",
      "FB Advanced Search: 50+\n",
      "funny Image Comments for FB: 5,000+\n",
      "Unlimited Group Links - Whatsapp, FB, Telegram: 10,000+\n",
      "FCB Connect - FC Barcelona: 50,000+\n",
      "Frases Cristianas de Esperanza y Fe: 100+\n",
      "FutureNet your social app: 100,000+\n",
      "Alarm.fo – choose your info: 1,000+\n",
      "FunForMobile Ringtones & Chat: 5,000,000+\n",
      "Chat For Strangers - Video Chat: 100,000+\n",
      "Fr Daoud Lamei: 100,000+\n",
      "Naruto & Boruto FR: 100+\n",
      "Frim: get new friends on local chat rooms: 5,000,000+\n"
     ]
    }
   ],
   "source": [
    "for row in googledata_freeapps:\n",
    "    category = row[1]\n",
    "    if category == 'SOCIAL':\n",
    "        print(str(row[0]) + ': ' + str(row[5]))\n",
    "    "
   ]
  },
  {
   "cell_type": "markdown",
   "metadata": {},
   "source": [
    "The average number of installs category \"SOCIAL\" (the third place with 23,253,652) seems to have been leveraged by few apps with more than 100,000,000+ installs."
   ]
  },
  {
   "cell_type": "code",
   "execution_count": 35,
   "metadata": {},
   "outputs": [
    {
     "name": "stdout",
     "output_type": "stream",
     "text": [
      "Facebook : 1,000,000,000+\n",
      "Facebook Lite : 500,000,000+\n",
      "Tumblr : 100,000,000+\n",
      "Pinterest : 100,000,000+\n",
      "Google+ : 1,000,000,000+\n",
      "Badoo - Free Chat & Dating App : 100,000,000+\n",
      "Tango - Live Video Broadcast : 100,000,000+\n",
      "Instagram : 1,000,000,000+\n",
      "Snapchat : 500,000,000+\n",
      "LinkedIn : 100,000,000+\n",
      "Tik Tok - including musical.ly : 100,000,000+\n",
      "BIGO LIVE - Live Stream : 100,000,000+\n",
      "VK : 100,000,000+\n"
     ]
    }
   ],
   "source": [
    "for app in googledata_freeapps:\n",
    "    if app[1] == 'SOCIAL' and (app[5] == '1,000,000,000+'\n",
    "                                      or app[5] == '500,000,000+'\n",
    "                                      or app[5] == '100,000,000+'):\n",
    "        print(app[0], ':', app[5])"
   ]
  },
  {
   "cell_type": "markdown",
   "metadata": {},
   "source": [
    "We see the same pattern for the video players category, which is the runner-up with 24,727,872 installs. The market is dominated by apps like Youtube, Google Play Movies & TV, or MX Player. The pattern is repeated for the genre which has the higher average number of installs: Communication (where we have giants like WhatsApp, Gmail, Skype, Google Chrome, etc.), and others like photography apps (Google Photos and other popular photo editors), or productivity apps (Microsoft Word, Dropbox, Google Calendar, Evernote, etc.).\n",
    "\n",
    "Again, the main concern is that these app genres might seem more popular than they really are. Moreover, these niches seem to be dominated by a few giants who are hard to compete against.\n",
    "\n",
    "The game genre seems pretty popular, but previously we found out this part of the market seems a bit saturated, so we'd like to come up with a different app recommendation if possible.\n",
    "\n",
    "The books and reference genre looks fairly popular as well, with an average number of installs of 8,767,811. It's interesting to explore this in more depth, since we found this genre has some potential to work well on the App Store, and our aim is to recommend an app genre that shows potential for being profitable on both the App Store and Google Play.\n",
    "\n",
    "Let's take a look at some of the apps from this genre and their number of installs:"
   ]
  },
  {
   "cell_type": "code",
   "execution_count": 36,
   "metadata": {},
   "outputs": [
    {
     "name": "stdout",
     "output_type": "stream",
     "text": [
      "E-Book Read - Read Book for free : 50,000+\n",
      "Download free book with green book : 100,000+\n",
      "Wikipedia : 10,000,000+\n",
      "Cool Reader : 10,000,000+\n",
      "Free Panda Radio Music : 100,000+\n",
      "Book store : 1,000,000+\n",
      "FBReader: Favorite Book Reader : 10,000,000+\n",
      "English Grammar Complete Handbook : 500,000+\n",
      "Free Books - Spirit Fanfiction and Stories : 1,000,000+\n",
      "Google Play Books : 1,000,000,000+\n",
      "AlReader -any text book reader : 5,000,000+\n",
      "Offline English Dictionary : 100,000+\n",
      "Offline: English to Tagalog Dictionary : 500,000+\n",
      "FamilySearch Tree : 1,000,000+\n",
      "Cloud of Books : 1,000,000+\n",
      "Recipes of Prophetic Medicine for free : 500,000+\n",
      "ReadEra – free ebook reader : 1,000,000+\n",
      "Anonymous caller detection : 10,000+\n",
      "Ebook Reader : 5,000,000+\n",
      "Litnet - E-books : 100,000+\n",
      "Read books online : 5,000,000+\n",
      "English to Urdu Dictionary : 500,000+\n",
      "eBoox: book reader fb2 epub zip : 1,000,000+\n",
      "English Persian Dictionary : 500,000+\n",
      "Flybook : 500,000+\n",
      "All Maths Formulas : 1,000,000+\n",
      "Ancestry : 5,000,000+\n",
      "HTC Help : 10,000,000+\n",
      "English translation from Bengali : 100,000+\n",
      "Pdf Book Download - Read Pdf Book : 100,000+\n",
      "Free Book Reader : 100,000+\n",
      "eBoox new: Reader for fb2 epub zip books : 50,000+\n",
      "Only 30 days in English, the guideline is guaranteed : 500,000+\n",
      "Moon+ Reader : 10,000,000+\n",
      "SH-02J Owner's Manual (Android 8.0) : 50,000+\n",
      "English-Myanmar Dictionary : 1,000,000+\n",
      "Golden Dictionary (EN-AR) : 1,000,000+\n",
      "All Language Translator Free : 1,000,000+\n",
      "Azpen eReader : 500,000+\n",
      "URBANO V 02 instruction manual : 100,000+\n",
      "Bible : 100,000,000+\n",
      "C Programs and Reference : 50,000+\n",
      "C Offline Tutorial : 1,000+\n",
      "C Programs Handbook : 50,000+\n",
      "Amazon Kindle : 100,000,000+\n",
      "Aab e Hayat Full Novel : 100,000+\n",
      "Aldiko Book Reader : 10,000,000+\n",
      "Google I/O 2018 : 500,000+\n",
      "R Language Reference Guide : 10,000+\n",
      "Learn R Programming Full : 5,000+\n",
      "R Programing Offline Tutorial : 1,000+\n",
      "Guide for R Programming : 5+\n",
      "Learn R Programming : 10+\n",
      "R Quick Reference Big Data : 1,000+\n",
      "V Made : 100,000+\n",
      "Wattpad 📖 Free Books : 100,000,000+\n",
      "Dictionary - WordWeb : 5,000,000+\n",
      "Guide (for X-MEN) : 100,000+\n",
      "AC Air condition Troubleshoot,Repair,Maintenance : 5,000+\n",
      "AE Bulletins : 1,000+\n",
      "Ae Allah na Dai (Rasa) : 10,000+\n",
      "50000 Free eBooks & Free AudioBooks : 5,000,000+\n",
      "Ag PhD Field Guide : 10,000+\n",
      "Ag PhD Deficiencies : 10,000+\n",
      "Ag PhD Planting Population Calculator : 1,000+\n",
      "Ag PhD Soybean Diseases : 1,000+\n",
      "Fertilizer Removal By Crop : 50,000+\n",
      "A-J Media Vault : 50+\n",
      "Al-Quran (Free) : 10,000,000+\n",
      "Al Quran (Tafsir & by Word) : 500,000+\n",
      "Al Quran Indonesia : 10,000,000+\n",
      "Al'Quran Bahasa Indonesia : 10,000,000+\n",
      "Al Quran Al karim : 1,000,000+\n",
      "Al-Muhaffiz : 50,000+\n",
      "Al Quran : EAlim - Translations & MP3 Offline : 5,000,000+\n",
      "Al-Quran 30 Juz free copies : 500,000+\n",
      "Koran Read &MP3 30 Juz Offline : 1,000,000+\n",
      "Hafizi Quran 15 lines per page : 1,000,000+\n",
      "Quran for Android : 10,000,000+\n",
      "Surah Al-Waqiah : 100,000+\n",
      "Hisnul Al Muslim - Hisn Invocations & Adhkaar : 100,000+\n",
      "Satellite AR : 1,000,000+\n",
      "Audiobooks from Audible : 100,000,000+\n",
      "Kinot & Eichah for Tisha B'Av : 10,000+\n",
      "AW Tozer Devotionals - Daily : 5,000+\n",
      "Tozer Devotional -Series 1 : 1,000+\n",
      "The Pursuit of God : 1,000+\n",
      "AY Sing : 5,000+\n",
      "Ay Hasnain k Nana Milad Naat : 10,000+\n",
      "Ay Mohabbat Teri Khatir Novel : 10,000+\n",
      "Arizona Statutes, ARS (AZ Law) : 1,000+\n",
      "Oxford A-Z of English Usage : 1,000,000+\n",
      "BD Fishpedia : 1,000+\n",
      "BD All Sim Offer : 10,000+\n",
      "Youboox - Livres, BD et magazines : 500,000+\n",
      "B&H Kids AR : 10,000+\n",
      "B y H Niños ES : 5,000+\n",
      "Dictionary.com: Find Definitions for English Words : 10,000,000+\n",
      "English Dictionary - Offline : 10,000,000+\n",
      "Bible KJV : 5,000,000+\n",
      "Borneo Bible, BM Bible : 10,000+\n",
      "MOD Black for BM : 100+\n",
      "BM Box : 1,000+\n",
      "Anime Mod for BM : 100+\n",
      "NOOK: Read eBooks & Magazines : 10,000,000+\n",
      "NOOK Audiobooks : 500,000+\n",
      "NOOK App for NOOK Devices : 500,000+\n",
      "Browsery by Barnes & Noble : 5,000+\n",
      "bp e-store : 1,000+\n",
      "Brilliant Quotes: Life, Love, Family & Motivation : 1,000,000+\n",
      "BR Ambedkar Biography & Quotes : 10,000+\n",
      "BU Alsace : 100+\n",
      "Catholic La Bu Zo Kam : 500+\n",
      "Khrifa Hla Bu (Solfa) : 10+\n",
      "Kristian Hla Bu : 10,000+\n",
      "SA HLA BU : 1,000+\n",
      "Learn SAP BW : 500+\n",
      "Learn SAP BW on HANA : 500+\n",
      "CA Laws 2018 (California Laws and Codes) : 5,000+\n",
      "Bootable Methods(USB-CD-DVD) : 10,000+\n",
      "cloudLibrary : 100,000+\n",
      "SDA Collegiate Quarterly : 500+\n",
      "Sabbath School : 100,000+\n",
      "Cypress College Library : 100+\n",
      "Stats Royale for Clash Royale : 1,000,000+\n",
      "GATE 21 years CS Papers(2011-2018 Solved) : 50+\n",
      "Learn CT Scan Of Head : 5,000+\n",
      "Easy Cv maker 2018 : 10,000+\n",
      "How to Write CV : 100,000+\n",
      "CW Nuclear : 1,000+\n",
      "CY Spray nozzle : 10+\n",
      "BibleRead En Cy Zh Yue : 5+\n",
      "CZ-Help : 5+\n",
      "Modlitební knížka CZ : 500+\n",
      "Guide for DB Xenoverse : 10,000+\n",
      "Guide for DB Xenoverse 2 : 10,000+\n",
      "Guide for IMS DB : 10+\n",
      "DC HSEMA : 5,000+\n",
      "DC Public Library : 1,000+\n",
      "Painting Lulu DC Super Friends : 1,000+\n",
      "Dictionary : 10,000,000+\n",
      "Fix Error Google Playstore : 1,000+\n",
      "D. H. Lawrence Poems FREE : 1,000+\n",
      "Bilingual Dictionary Audio App : 5,000+\n",
      "DM Screen : 10,000+\n",
      "wikiHow: how to do anything : 1,000,000+\n",
      "Dr. Doug's Tips : 1,000+\n",
      "Bible du Semeur-BDS (French) : 50,000+\n",
      "La citadelle du musulman : 50,000+\n",
      "DV 2019 Entry Guide : 10,000+\n",
      "DV 2019 - EDV Photo & Form : 50,000+\n",
      "DV 2018 Winners Guide : 1,000+\n",
      "EB Annual Meetings : 1,000+\n",
      "EC - AP & Telangana : 5,000+\n",
      "TN Patta Citta & EC : 10,000+\n",
      "AP Stamps and Registration : 10,000+\n",
      "CompactiMa EC pH Calibration : 100+\n",
      "EGW Writings 2 : 100,000+\n",
      "EGW Writings : 1,000,000+\n",
      "Bible with EGW Comments : 100,000+\n",
      "My Little Pony AR Guide : 1,000,000+\n",
      "SDA Sabbath School Quarterly : 500,000+\n",
      "Duaa Ek Ibaadat : 5,000+\n",
      "Spanish English Translator : 10,000,000+\n",
      "Dictionary - Merriam-Webster : 10,000,000+\n",
      "JW Library : 10,000,000+\n",
      "Oxford Dictionary of English : Free : 10,000,000+\n",
      "English Hindi Dictionary : 10,000,000+\n",
      "English to Hindi Dictionary : 5,000,000+\n",
      "EP Research Service : 1,000+\n",
      "Hymnes et Louanges : 100,000+\n",
      "EU Charter : 1,000+\n",
      "EU Data Protection : 1,000+\n",
      "EU IP Codes : 100+\n",
      "EW PDF : 5+\n",
      "BakaReader EX : 100,000+\n",
      "EZ Quran : 50,000+\n",
      "FA Part 1 & 2 Past Papers Solved Free – Offline : 5,000+\n",
      "La Fe de Jesus : 1,000+\n",
      "La Fe de Jesús : 500+\n",
      "Le Fe de Jesus : 500+\n",
      "Florida - Pocket Brainbook : 1,000+\n",
      "Florida Statutes (FL Code) : 1,000+\n",
      "English To Shona Dictionary : 10,000+\n",
      "Greek Bible FP (Audio) : 1,000+\n",
      "Golden Dictionary (FR-AR) : 500,000+\n",
      "Fanfic-FR : 5,000+\n",
      "Bulgarian French Dictionary Fr : 10,000+\n",
      "Chemin (fr) : 1,000+\n",
      "The SCP Foundation DB fr nn5n : 1,000+\n"
     ]
    }
   ],
   "source": [
    "for app in googledata_freeapps:\n",
    "    if app[1] == 'BOOKS_AND_REFERENCE':\n",
    "        print(app[0], ':', app[5])"
   ]
  },
  {
   "cell_type": "markdown",
   "metadata": {},
   "source": [
    "The book and reference genre includes a variety of apps: software for processing and reading ebooks, various collections of libraries, dictionaries, tutorials on programming or languages, etc. It seems there's still a small number of extremely popular apps that skew the average:"
   ]
  },
  {
   "cell_type": "code",
   "execution_count": 39,
   "metadata": {},
   "outputs": [
    {
     "name": "stdout",
     "output_type": "stream",
     "text": [
      "Google Play Books :  1,000,000,000+\n",
      "Bible :  100,000,000+\n",
      "Amazon Kindle :  100,000,000+\n",
      "Wattpad 📖 Free Books :  100,000,000+\n",
      "Audiobooks from Audible :  100,000,000+\n"
     ]
    }
   ],
   "source": [
    "for app in googledata_freeapps:\n",
    "    if (app[1] == 'BOOKS_AND_REFERENCE') and (app[5] == '100,000,000+' or\n",
    "                                              app[5] == '500,000,000+' or\n",
    "                                              app[5] == '1,000,000,000+'):\n",
    "        print(app[0], ': ', app[5])"
   ]
  },
  {
   "cell_type": "markdown",
   "metadata": {},
   "source": [
    "However, it looks like there are only a few very popular apps, so this market still shows potential. Let's try to get some app ideas based on the kind of apps that are somewhere in the middle in terms of popularity (between 1,000,000 and 100,000,000 downloads):\n"
   ]
  },
  {
   "cell_type": "code",
   "execution_count": 40,
   "metadata": {},
   "outputs": [
    {
     "name": "stdout",
     "output_type": "stream",
     "text": [
      "Wikipedia :  10,000,000+\n",
      "Cool Reader :  10,000,000+\n",
      "Book store :  1,000,000+\n",
      "FBReader: Favorite Book Reader :  10,000,000+\n",
      "Free Books - Spirit Fanfiction and Stories :  1,000,000+\n",
      "AlReader -any text book reader :  5,000,000+\n",
      "FamilySearch Tree :  1,000,000+\n",
      "Cloud of Books :  1,000,000+\n",
      "ReadEra – free ebook reader :  1,000,000+\n",
      "Ebook Reader :  5,000,000+\n",
      "Read books online :  5,000,000+\n",
      "eBoox: book reader fb2 epub zip :  1,000,000+\n",
      "All Maths Formulas :  1,000,000+\n",
      "Ancestry :  5,000,000+\n",
      "HTC Help :  10,000,000+\n",
      "Moon+ Reader :  10,000,000+\n",
      "English-Myanmar Dictionary :  1,000,000+\n",
      "Golden Dictionary (EN-AR) :  1,000,000+\n",
      "All Language Translator Free :  1,000,000+\n",
      "Aldiko Book Reader :  10,000,000+\n",
      "Dictionary - WordWeb :  5,000,000+\n",
      "50000 Free eBooks & Free AudioBooks :  5,000,000+\n",
      "Al-Quran (Free) :  10,000,000+\n",
      "Al Quran Indonesia :  10,000,000+\n",
      "Al'Quran Bahasa Indonesia :  10,000,000+\n",
      "Al Quran Al karim :  1,000,000+\n",
      "Al Quran : EAlim - Translations & MP3 Offline :  5,000,000+\n",
      "Koran Read &MP3 30 Juz Offline :  1,000,000+\n",
      "Hafizi Quran 15 lines per page :  1,000,000+\n",
      "Quran for Android :  10,000,000+\n",
      "Satellite AR :  1,000,000+\n",
      "Oxford A-Z of English Usage :  1,000,000+\n",
      "Dictionary.com: Find Definitions for English Words :  10,000,000+\n",
      "English Dictionary - Offline :  10,000,000+\n",
      "Bible KJV :  5,000,000+\n",
      "NOOK: Read eBooks & Magazines :  10,000,000+\n",
      "Brilliant Quotes: Life, Love, Family & Motivation :  1,000,000+\n",
      "Stats Royale for Clash Royale :  1,000,000+\n",
      "Dictionary :  10,000,000+\n",
      "wikiHow: how to do anything :  1,000,000+\n",
      "EGW Writings :  1,000,000+\n",
      "My Little Pony AR Guide :  1,000,000+\n",
      "Spanish English Translator :  10,000,000+\n",
      "Dictionary - Merriam-Webster :  10,000,000+\n",
      "JW Library :  10,000,000+\n",
      "Oxford Dictionary of English : Free :  10,000,000+\n",
      "English Hindi Dictionary :  10,000,000+\n",
      "English to Hindi Dictionary :  5,000,000+\n"
     ]
    }
   ],
   "source": [
    "for app in googledata_freeapps:\n",
    "    if (app[1] == 'BOOKS_AND_REFERENCE') and (app[5] == '1,000,000+' or\n",
    "                                              app[5] == '5,000,000+' or\n",
    "                                              app[5] == '10,000,000+' or\n",
    "                                              app[5] == '50,000,000+'):\n",
    "        print(app[0], ': ', app[5])"
   ]
  },
  {
   "cell_type": "markdown",
   "metadata": {},
   "source": [
    "This niche seems to be dominated by software for processing and reading ebooks, as well as various collections of libraries and dictionaries, so it's probably not a good idea to build similar apps since there'll be some significant competition.\n",
    "\n",
    "We also notice there are quite a few apps built around the book Quran, which suggests that building an app around a popular book can be profitable. It seems that taking a popular book (perhaps a more recent book) and turning it into an app could be profitable for both the Google Play and the App Store markets.\n",
    "\n",
    "However, it looks like the market is already full of libraries, so we need to add some special features besides the raw version of the book. This might include daily quotes from the book, an audio version of the book, quizzes on the book, a forum where people can discuss the book, etc."
   ]
  },
  {
   "cell_type": "markdown",
   "metadata": {},
   "source": [
    "# Conclusions\n",
    "In this project, we analyzed data about the App Store and Google Play mobile apps with the goal of recommending an app profile that can be profitable for both markets.\n",
    "\n",
    "We concluded that taking a popular book (perhaps a more recent book) and turning it into an app could be profitable for both the Google Play and the App Store markets. The markets are already full of libraries, so we need to add some special features besides the raw version of the book. This might include daily quotes from the book, an audio version of the book, quizzes on the book, a forum where people can discuss the book, etc."
   ]
  },
  {
   "cell_type": "code",
   "execution_count": null,
   "metadata": {},
   "outputs": [],
   "source": []
  }
 ],
 "metadata": {
  "kernelspec": {
   "display_name": "Python 3",
   "language": "python",
   "name": "python3"
  },
  "language_info": {
   "codemirror_mode": {
    "name": "ipython",
    "version": 3
   },
   "file_extension": ".py",
   "mimetype": "text/x-python",
   "name": "python",
   "nbconvert_exporter": "python",
   "pygments_lexer": "ipython3",
   "version": "3.8.2"
  }
 },
 "nbformat": 4,
 "nbformat_minor": 2
}
